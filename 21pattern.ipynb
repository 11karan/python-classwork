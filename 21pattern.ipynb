{
 "cells": [
  {
   "cell_type": "code",
   "execution_count": 3,
   "id": "59863d11-ab3a-4bfa-bd71-8234d6d303e7",
   "metadata": {},
   "outputs": [
    {
     "name": "stdout",
     "output_type": "stream",
     "text": [
      "* * * *  \n",
      "* * * *  \n",
      "* * * *  \n",
      "* * * *  \n"
     ]
    }
   ],
   "source": [
    "for i in range(0,4):\n",
    "    for j in range(0,4):\n",
    "        print(end ='* ' )\n",
    "    print(' ')"
   ]
  },
  {
   "cell_type": "code",
   "execution_count": 5,
   "id": "1d4ae7c4-1bbf-4419-858b-46a98fba2919",
   "metadata": {},
   "outputs": [
    {
     "name": "stdout",
     "output_type": "stream",
     "text": [
      "1 2 3 4  \n",
      "1 2 3 4  \n",
      "1 2 3 4  \n",
      "1 2 3 4  \n"
     ]
    }
   ],
   "source": [
    "for i in range(0,4):\n",
    "    for j in range(1,5):\n",
    "        print(j,end =' ' )\n",
    "    print(' ')"
   ]
  },
  {
   "cell_type": "code",
   "execution_count": 6,
   "id": "7a65c17b-b1e8-4dd8-bae2-5a1c2ed878ef",
   "metadata": {},
   "outputs": [
    {
     "name": "stdout",
     "output_type": "stream",
     "text": [
      "1 1 1 1  \n",
      "2 2 2 2  \n",
      "3 3 3 3  \n"
     ]
    }
   ],
   "source": [
    "for i in range(1,4):\n",
    "    for j in range(1,5):\n",
    "        print(i,end =' ' )\n",
    "    print(' ')"
   ]
  },
  {
   "cell_type": "code",
   "execution_count": 8,
   "id": "a76c6eed-9997-4f02-a63a-6a0f14654935",
   "metadata": {},
   "outputs": [
    {
     "name": "stdout",
     "output_type": "stream",
     "text": [
      "3 3 3 3  \n",
      "2 2 2 2  \n",
      "1 1 1 1  \n"
     ]
    }
   ],
   "source": [
    "for i in range(3,0,-1):\n",
    "    for j in range(1,5):\n",
    "        print(i,end =' ' )\n",
    "    print(' ')"
   ]
  },
  {
   "cell_type": "code",
   "execution_count": 9,
   "id": "8793b5ba-b8b5-47c7-bbde-8ce53168b0e0",
   "metadata": {},
   "outputs": [
    {
     "name": "stdout",
     "output_type": "stream",
     "text": [
      "2 3 4  \n",
      "2 3 4  \n",
      "2 3 4  \n"
     ]
    }
   ],
   "source": [
    "for i in range(0,3):\n",
    "    for j in range(2,5):\n",
    "        print(j,end =' ' )\n",
    "    print(' ')"
   ]
  },
  {
   "cell_type": "code",
   "execution_count": 11,
   "id": "44cf2176-135e-4e24-a4c8-11a29e756841",
   "metadata": {},
   "outputs": [
    {
     "name": "stdout",
     "output_type": "stream",
     "text": [
      "1 2 3  \n",
      "4 5 6  \n",
      "7 8 9  \n"
     ]
    }
   ],
   "source": [
    "a= 1\n",
    "for i in range(1,4):\n",
    "    for j in range(2,5):\n",
    "        print(a,end =' ' )\n",
    "        a+=1\n",
    "    print(' ')"
   ]
  },
  {
   "cell_type": "code",
   "execution_count": 12,
   "id": "b9d39a5c-a4bf-43d0-ac4d-0cfc8527b373",
   "metadata": {},
   "outputs": [
    {
     "name": "stdout",
     "output_type": "stream",
     "text": [
      "9 8 7  \n",
      "6 5 4  \n",
      "3 2 1  \n"
     ]
    }
   ],
   "source": [
    "a= 9\n",
    "for i in range(1,4):\n",
    "    for j in range(2,5):\n",
    "        print(a,end =' ' )\n",
    "        a-=1\n",
    "    print(' ')"
   ]
  },
  {
   "cell_type": "code",
   "execution_count": 14,
   "id": "96d39258-ccd0-42d4-aa70-09ab6e0334a4",
   "metadata": {},
   "outputs": [
    {
     "name": "stdout",
     "output_type": "stream",
     "text": [
      "*  \n",
      "* *  \n",
      "* * *  \n",
      "* * * *  \n",
      "* * * * *  \n"
     ]
    }
   ],
   "source": [
    "for i in range(1,6):\n",
    "    for j in range(1,6):\n",
    "        if(j<=i):\n",
    "            print(end ='* ' )\n",
    "    \n",
    "    print(' ')"
   ]
  },
  {
   "cell_type": "code",
   "execution_count": 15,
   "id": "8b6606dc-cef3-4c6d-878b-cba80028c137",
   "metadata": {},
   "outputs": [
    {
     "name": "stdout",
     "output_type": "stream",
     "text": [
      "*  \n",
      "* *  \n",
      "* * *  \n",
      "* * * *  \n",
      "* * * * *  \n"
     ]
    }
   ],
   "source": [
    "#sir method\n",
    "for i in range(1,6):\n",
    "    for j in range(1,i+1):\n",
    "        if(j<=i):\n",
    "            print(end ='* ' )\n",
    "    \n",
    "    print(' ')\n"
   ]
  },
  {
   "cell_type": "code",
   "execution_count": 19,
   "id": "153bc926-6ad1-477b-9138-56e705dfbd4c",
   "metadata": {},
   "outputs": [
    {
     "name": "stdout",
     "output_type": "stream",
     "text": [
      "5  \n",
      "5 5  \n",
      "5 5 5  \n",
      "5 5 5 5  \n"
     ]
    }
   ],
   "source": [
    "for i in range(1,5):\n",
    "    for j in range(1,i+1):\n",
    "        if(j<=i):\n",
    "            a = 5\n",
    "            print(a,end =' ' )\n",
    "    \n",
    "    print(' ')\n"
   ]
  },
  {
   "cell_type": "code",
   "execution_count": 24,
   "id": "b87fdb7a-6758-4145-b85b-47bdc028e18f",
   "metadata": {},
   "outputs": [
    {
     "name": "stdout",
     "output_type": "stream",
     "text": [
      "1  \n",
      "1 2  \n",
      "1 2 3  \n"
     ]
    }
   ],
   "source": [
    "for i in range(1,4):\n",
    "    a = 1\n",
    "    for j in range(1,i+1):\n",
    "        if(j<=i):\n",
    "            print(a,end =' ' )\n",
    "            a+=1\n",
    "    \n",
    "    print(' ')\n"
   ]
  },
  {
   "cell_type": "code",
   "execution_count": 26,
   "id": "0b75bed1-3777-4808-ba3a-7e738cfe4fff",
   "metadata": {},
   "outputs": [
    {
     "name": "stdout",
     "output_type": "stream",
     "text": [
      "7  \n",
      "6 5  \n",
      "4 3 2  \n"
     ]
    }
   ],
   "source": [
    "a = 7\n",
    "for i in range(1,4):\n",
    "    for j in range(1,i+1):\n",
    "        if(j<=i):\n",
    "            print(a,end =' ' )\n",
    "            a-=1\n",
    "    \n",
    "    print(' ')"
   ]
  },
  {
   "cell_type": "code",
   "execution_count": 28,
   "id": "5293e5f2-4723-485a-84a9-2d6335175054",
   "metadata": {},
   "outputs": [
    {
     "name": "stdout",
     "output_type": "stream",
     "text": [
      "7  \n",
      "6 6  \n",
      "5 5 5  \n",
      "4 4 4 4  \n"
     ]
    }
   ],
   "source": [
    "a = 7\n",
    "for i in range(1,5):\n",
    "    for j in range(1,i+1):\n",
    "        if(j<=i):\n",
    "            print(a,end =' ' )\n",
    "    a-=1\n",
    "    \n",
    "    print(' ')"
   ]
  },
  {
   "cell_type": "code",
   "execution_count": 29,
   "id": "dbc2184a-29dd-407b-9231-6a597f875a2c",
   "metadata": {},
   "outputs": [
    {
     "name": "stdout",
     "output_type": "stream",
     "text": [
      "1  \n",
      "2 3  \n",
      "4 5 6  \n",
      "7 8 9 10  \n"
     ]
    }
   ],
   "source": [
    "a = 1\n",
    "for i in range(1,5):\n",
    "    for j in range(1,i+1):\n",
    "        if(j<=i):\n",
    "            print(a,end =' ' )\n",
    "        a+=1\n",
    "    \n",
    "    print(' ')"
   ]
  },
  {
   "cell_type": "code",
   "execution_count": 32,
   "id": "e0a2aa51-39fe-442b-b367-ef282273b723",
   "metadata": {},
   "outputs": [
    {
     "name": "stdout",
     "output_type": "stream",
     "text": [
      "65  \n",
      "65 66  \n",
      "65 66 67  \n",
      "65 66 67 68  \n"
     ]
    }
   ],
   "source": [
    "for i in range(1,5):\n",
    "    a = 65\n",
    "    for j in range(1,i+1):\n",
    "        if(j<=i):\n",
    "            print(a,end =' ' )\n",
    "        a+=1\n",
    "    \n",
    "    print(' ')"
   ]
  },
  {
   "cell_type": "code",
   "execution_count": 33,
   "id": "d7dc7762-df36-4bd6-be5b-c09ac5596933",
   "metadata": {},
   "outputs": [
    {
     "name": "stdout",
     "output_type": "stream",
     "text": [
      "65  \n",
      "65 66  \n",
      "65 66 67 68  \n"
     ]
    }
   ],
   "source": [
    "for i in range(1,5):\n",
    "    a = 65\n",
    "    if(i == 3):\n",
    "        i+1\n",
    "        continue\n",
    "    for j in range(1,i+1):\n",
    "        if(j<=i):\n",
    "            print(a,end =' ' )\n",
    "        a+=1\n",
    "    \n",
    "    print(' ')"
   ]
  },
  {
   "cell_type": "code",
   "execution_count": 37,
   "id": "1cdc0195-a8ca-4f6c-b27c-bbcde81bc6fa",
   "metadata": {},
   "outputs": [
    {
     "name": "stdout",
     "output_type": "stream",
     "text": [
      "* * * *  \n",
      "* * *  \n",
      "* *  \n",
      "*  \n"
     ]
    }
   ],
   "source": [
    "for i in range(4,0,-1):\n",
    "    for j in range(1,i+1):\n",
    "        if(j<=i):\n",
    "            print(end ='* ' )\n",
    "    \n",
    "    print(' ')"
   ]
  },
  {
   "cell_type": "code",
   "execution_count": 39,
   "id": "3c4c5bbb-2418-4465-a829-46e9ef2938e3",
   "metadata": {},
   "outputs": [
    {
     "name": "stdout",
     "output_type": "stream",
     "text": [
      "1 1 1 1  \n",
      "2 2 2  \n",
      "3 3  \n",
      "4  \n"
     ]
    }
   ],
   "source": [
    "a = 1\n",
    "for i in range(4,0,-1):\n",
    "    for j in range(1,i+1):\n",
    "        if(j<=i):\n",
    "            print(a,end =' ' )\n",
    "    a+=1\n",
    "    print(' ')"
   ]
  },
  {
   "cell_type": "code",
   "execution_count": 40,
   "id": "a3dc96a8-8d81-4077-83bd-bb47d6deed41",
   "metadata": {},
   "outputs": [
    {
     "name": "stdout",
     "output_type": "stream",
     "text": [
      "1 2 3 4  \n",
      "5 6 7  \n",
      "8 9  \n",
      "10  \n"
     ]
    }
   ],
   "source": [
    "a = 1\n",
    "for i in range(4,0,-1):\n",
    "    for j in range(1,i+1):\n",
    "        if(j<=i):\n",
    "            print(a,end =' ' )\n",
    "        a+=1\n",
    "    print(' ')"
   ]
  },
  {
   "cell_type": "code",
   "execution_count": 42,
   "id": "a3524214-3f6d-4631-b3a6-491651d0ecef",
   "metadata": {},
   "outputs": [
    {
     "name": "stdout",
     "output_type": "stream",
     "text": [
      "4 3 2 1  \n",
      "4 3 2  \n",
      "4 3  \n",
      "4  \n"
     ]
    }
   ],
   "source": [
    "\n",
    "for i in range(4,0,-1):\n",
    "    a = 4\n",
    "    for j in range(1,i+1):\n",
    "        if(j<=i):\n",
    "            print(a,end =' ' )\n",
    "        a-=1\n",
    "    print(' ')"
   ]
  },
  {
   "cell_type": "code",
   "execution_count": 43,
   "id": "00483495-6993-4a92-8b36-f3914d08d2e4",
   "metadata": {},
   "outputs": [
    {
     "name": "stdout",
     "output_type": "stream",
     "text": [
      "1 2 3 4  \n",
      "1 2 3  \n",
      "1 2  \n",
      "1  \n"
     ]
    }
   ],
   "source": [
    "for i in range(4,0,-1):\n",
    "    a = 1\n",
    "    for j in range(1,i+1):\n",
    "        if(j<=i):\n",
    "            print(a,end =' ' )\n",
    "        a+=1\n",
    "    print(' ')"
   ]
  },
  {
   "cell_type": "code",
   "execution_count": 49,
   "id": "7e83548b-58b7-4447-a143-6bd747c073ea",
   "metadata": {},
   "outputs": [
    {
     "name": "stdout",
     "output_type": "stream",
     "text": [
      "A B C D  \n",
      "A B C  \n",
      "A B  \n",
      "A  \n"
     ]
    }
   ],
   "source": [
    "for i in range(4,0,-1):\n",
    "    a = 65\n",
    "    for j in range(1,i+1):\n",
    "        if(j<=i):\n",
    "            print(chr(a),end =' ' )\n",
    "        a+=1\n",
    "    print(' ')"
   ]
  },
  {
   "cell_type": "code",
   "execution_count": 51,
   "id": "0ae5cb4e-4287-4208-9b1c-3255d89166f9",
   "metadata": {},
   "outputs": [
    {
     "name": "stdout",
     "output_type": "stream",
     "text": [
      "A  \n",
      "A B  \n",
      "A B C  \n"
     ]
    }
   ],
   "source": [
    "for i in range(1,4):\n",
    "    a = 65\n",
    "    for j in range(1,i+1):\n",
    "        if(j<=i):\n",
    "            print(chr(a),end =' ' )\n",
    "        a+=1\n",
    "    print(' ')"
   ]
  },
  {
   "cell_type": "code",
   "execution_count": null,
   "id": "7d9925d3-c5be-474e-b37e-043c941eb92c",
   "metadata": {},
   "outputs": [],
   "source": []
  }
 ],
 "metadata": {
  "kernelspec": {
   "display_name": "Python 3 (ipykernel)",
   "language": "python",
   "name": "python3"
  },
  "language_info": {
   "codemirror_mode": {
    "name": "ipython",
    "version": 3
   },
   "file_extension": ".py",
   "mimetype": "text/x-python",
   "name": "python",
   "nbconvert_exporter": "python",
   "pygments_lexer": "ipython3",
   "version": "3.13.3"
  }
 },
 "nbformat": 4,
 "nbformat_minor": 5
}
