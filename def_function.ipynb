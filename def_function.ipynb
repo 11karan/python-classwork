{
 "cells": [
  {
   "cell_type": "code",
   "execution_count": 1,
   "id": "7a1b0a74-4129-40e7-a3e1-bce5131ba554",
   "metadata": {},
   "outputs": [
    {
     "name": "stdout",
     "output_type": "stream",
     "text": [
      "24\n"
     ]
    }
   ],
   "source": [
    "def add(a,b):\n",
    "    print(a+b)\n",
    "add(12,12)"
   ]
  },
  {
   "cell_type": "code",
   "execution_count": 3,
   "id": "5c68995e-ddb2-45c6-b6df-3034dad1e8ec",
   "metadata": {},
   "outputs": [
    {
     "name": "stdout",
     "output_type": "stream",
     "text": [
      "25\n"
     ]
    }
   ],
   "source": [
    "def add():\n",
    "    a = 12 \n",
    "    b = 13\n",
    "    c = a+b\n",
    "    print(c)\n",
    "add()"
   ]
  },
  {
   "cell_type": "code",
   "execution_count": 7,
   "id": "3544cf45-990a-4633-b208-1803eb4f07b9",
   "metadata": {},
   "outputs": [
    {
     "name": "stdout",
     "output_type": "stream",
     "text": [
      "total sum is  14\n"
     ]
    }
   ],
   "source": [
    "def square(a):\n",
    "    sum = 0\n",
    "    while a>0:\n",
    "        sum+=a**2\n",
    "        a-=1\n",
    "    print('total sum is ', sum)\n",
    "square(3)"
   ]
  },
  {
   "cell_type": "code",
   "execution_count": 10,
   "id": "42b83abd-fc83-4f54-a73c-7c7f5e04b583",
   "metadata": {},
   "outputs": [
    {
     "name": "stdout",
     "output_type": "stream",
     "text": [
      " the sum of digits is 15\n"
     ]
    }
   ],
   "source": [
    "def sum(a):\n",
    "    sum = 0\n",
    "    while( a>0):\n",
    "        z = a%10\n",
    "        sum+=z\n",
    "        a//=10\n",
    "    print(' the sum of digits is',sum)\n",
    "sum(12345)"
   ]
  },
  {
   "cell_type": "code",
   "execution_count": 11,
   "id": "d8579c73-129a-4ef2-8c09-973498816062",
   "metadata": {},
   "outputs": [
    {
     "name": "stdin",
     "output_type": "stream",
     "text": [
      " enter the number: 987654321\n"
     ]
    },
    {
     "name": "stdout",
     "output_type": "stream",
     "text": [
      " the sum of digits is 45\n"
     ]
    }
   ],
   "source": [
    "def sum():\n",
    "    i = int(input(' enter the number:'))\n",
    "    sum = 0\n",
    "    while( i>0):\n",
    "        z = i%10\n",
    "        sum+=z\n",
    "        i//=10\n",
    "    print(' the sum of digits is',sum)\n",
    "sum()"
   ]
  },
  {
   "cell_type": "code",
   "execution_count": 12,
   "id": "b294b3a2-555d-4b4c-8aa1-27d5dba80fbc",
   "metadata": {},
   "outputs": [
    {
     "name": "stdin",
     "output_type": "stream",
     "text": [
      " enter the number: 12\n"
     ]
    },
    {
     "name": "stdout",
     "output_type": "stream",
     "text": [
      "it is an even number\n"
     ]
    }
   ],
   "source": [
    "def eve():\n",
    "    i = int(input(' enter the number:'))\n",
    "    if(i%2 == 0):\n",
    "        print('it is an even number')\n",
    "    else:\n",
    "        print('it is an odd number')\n",
    "eve()"
   ]
  },
  {
   "cell_type": "code",
   "execution_count": null,
   "id": "bb588162-5700-4529-9f5e-39a6ed35d9b2",
   "metadata": {},
   "outputs": [],
   "source": []
  }
 ],
 "metadata": {
  "kernelspec": {
   "display_name": "Python 3 (ipykernel)",
   "language": "python",
   "name": "python3"
  },
  "language_info": {
   "codemirror_mode": {
    "name": "ipython",
    "version": 3
   },
   "file_extension": ".py",
   "mimetype": "text/x-python",
   "name": "python",
   "nbconvert_exporter": "python",
   "pygments_lexer": "ipython3",
   "version": "3.13.3"
  }
 },
 "nbformat": 4,
 "nbformat_minor": 5
}
