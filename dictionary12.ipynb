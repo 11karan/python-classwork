{
 "cells": [
  {
   "cell_type": "code",
   "execution_count": 1,
   "id": "69d0d342-d112-4c93-b2ce-78e869eb0666",
   "metadata": {},
   "outputs": [
    {
     "name": "stdout",
     "output_type": "stream",
     "text": [
      "{11: 'isha'}\n"
     ]
    }
   ],
   "source": [
    "name = {10:'aman',11:'isha'}\n",
    "name.pop(10)\n",
    "print(name)"
   ]
  },
  {
   "cell_type": "code",
   "execution_count": 7,
   "id": "30757ae2-1097-4717-b63c-0118df57266a",
   "metadata": {},
   "outputs": [
    {
     "name": "stdout",
     "output_type": "stream",
     "text": [
      "2 7\n",
      "7 2\n"
     ]
    }
   ],
   "source": [
    "list = [1,2,4,7,11,19]\n",
    "target = 9 \n",
    "for x in list:\n",
    "    if(target-x in list):\n",
    "        print(x,target-x)\n"
   ]
  },
  {
   "cell_type": "code",
   "execution_count": 10,
   "id": "7f0935e4-cea4-4380-b341-bb48dd12719b",
   "metadata": {},
   "outputs": [
    {
     "name": "stdout",
     "output_type": "stream",
     "text": [
      "{1: 0, 2: 1, 4: 2, 7: 3, 11: 4, 19: 5}\n"
     ]
    }
   ],
   "source": [
    "list = [1,2,4,7,11,19]\n",
    "target = 9\n",
    "#x+y = 9\n",
    "# if x == 1,1+y = 9\n",
    "# y = 9-x or 9-1\n",
    "dict = {}\n",
    "for i in range(0,len(list)):\n",
    "    dict[list[i]] = i\n",
    "print(dict)"
   ]
  },
  {
   "cell_type": "code",
   "execution_count": 11,
   "id": "1a39ba35-e7d2-42b2-b325-52b1e79b88c0",
   "metadata": {},
   "outputs": [
    {
     "name": "stdout",
     "output_type": "stream",
     "text": [
      "{1: 0, 2: 1, 4: 2, 7: 3, 11: 4, 19: 5}\n",
      "2 7 3\n",
      "7 2 1\n"
     ]
    }
   ],
   "source": [
    "list = [1,2,4,7,11,19]\n",
    "target = 9\n",
    "dict = {}\n",
    "for i in range(0,len(list)):\n",
    "    dict[list[i]] = i # insert key value\n",
    "print(dict)\n",
    "for x in list:\n",
    "    if(target-x in dict): # checking the value in dict\n",
    "        print(x,target-x,dict[target - x])   #for printing the index value\n"
   ]
  },
  {
   "cell_type": "code",
   "execution_count": 14,
   "id": "63903c84-7186-43d2-b948-683a97638720",
   "metadata": {},
   "outputs": [],
   "source": [
    "#set are mutable"
   ]
  },
  {
   "cell_type": "code",
   "execution_count": null,
   "id": "2ee2a36c-7b0e-4029-b5d0-bb80cde5fa06",
   "metadata": {},
   "outputs": [],
   "source": []
  }
 ],
 "metadata": {
  "kernelspec": {
   "display_name": "Python 3 (ipykernel)",
   "language": "python",
   "name": "python3"
  },
  "language_info": {
   "codemirror_mode": {
    "name": "ipython",
    "version": 3
   },
   "file_extension": ".py",
   "mimetype": "text/x-python",
   "name": "python",
   "nbconvert_exporter": "python",
   "pygments_lexer": "ipython3",
   "version": "3.13.3"
  }
 },
 "nbformat": 4,
 "nbformat_minor": 5
}
