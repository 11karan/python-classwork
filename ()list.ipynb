{
 "cells": [
  {
   "cell_type": "code",
   "execution_count": 4,
   "id": "2ba16571-ac88-4a3a-8da4-d15e44ff7d5c",
   "metadata": {},
   "outputs": [
    {
     "name": "stdout",
     "output_type": "stream",
     "text": [
      "remaining value )\n",
      "x=> (\n"
     ]
    }
   ],
   "source": [
    "#valid parenthesis\n",
    "data = '()'\n",
    "x =None\n",
    "for char in data :\n",
    "    if(char == '('): #)==(\n",
    "        x = char\n",
    "    else:\n",
    "        print('remaining value',char)\n",
    "print('x=>',x)"
   ]
  },
  {
   "cell_type": "code",
   "execution_count": 5,
   "id": "366aa00b-86e3-4861-a29e-c10367a7500b",
   "metadata": {},
   "outputs": [
    {
     "name": "stdout",
     "output_type": "stream",
     "text": [
      "valid ) (\n",
      "x=> (\n"
     ]
    }
   ],
   "source": [
    "data = '()'\n",
    "x =None\n",
    "for char in data :\n",
    "    if(char == '('): #)==(\n",
    "        x = char\n",
    "    elif(char == ')' and x == '('):\n",
    "        print('valid',char,x)\n",
    "    else:\n",
    "        print('invalid')\n",
    "print('x=>',x)"
   ]
  },
  {
   "cell_type": "code",
   "execution_count": 7,
   "id": "8ec0c0e9-70ae-4890-99b9-6bd8c7d173c9",
   "metadata": {},
   "outputs": [
    {
     "name": "stdout",
     "output_type": "stream",
     "text": [
      "valid ] [\n",
      "x=> [\n"
     ]
    }
   ],
   "source": [
    "data = '[]'\n",
    "x =None\n",
    "for char in data :\n",
    "    if(char == '(' or char == '['): #)==(\n",
    "        x = char\n",
    "    elif((char == ')' and x == '(') or (char == ']' and x == '[') ):\n",
    "        print('valid',char,x)\n",
    "    else:\n",
    "        print('invalid')\n",
    "print('x=>',x)"
   ]
  },
  {
   "cell_type": "code",
   "execution_count": 8,
   "id": "5aefab41-9c2b-4f4f-9bb4-87adf0ea049b",
   "metadata": {},
   "outputs": [
    {
     "name": "stdout",
     "output_type": "stream",
     "text": [
      "invalid\n",
      "x=> (\n"
     ]
    }
   ],
   "source": [
    "data = '(]'\n",
    "x =None\n",
    "for char in data :\n",
    "    if(char == '(' or char == '['): #)==(\n",
    "        x = char\n",
    "    elif((char == ')' and x == '(') or (char == ']' and x == '[') ):\n",
    "        print('valid',char,x)\n",
    "    else:\n",
    "        print('invalid')\n",
    "print('x=>',x)"
   ]
  },
  {
   "cell_type": "code",
   "execution_count": 12,
   "id": "dc606430-5a66-4a59-b845-95985aad7f77",
   "metadata": {},
   "outputs": [
    {
     "name": "stdout",
     "output_type": "stream",
     "text": [
      "valid ] ['(']\n",
      "valid ) []\n",
      "x=> []\n"
     ]
    }
   ],
   "source": [
    "data = '([])'\n",
    "x =[]\n",
    "for char in data :\n",
    "    if(char == '(' or char == '['): #)==(\n",
    "        x.append(char)\n",
    "    elif((char == ')' and '('== x.pop()) or (char == ']' and '[' == x.pop()) ):\n",
    "        print('valid',char,x)\n",
    "    else:\n",
    "        print('invalid')\n",
    "print('x=>',x)"
   ]
  },
  {
   "cell_type": "code",
   "execution_count": 14,
   "id": "463b87c2-6f9e-4d4e-a8f8-f72c6659ffb4",
   "metadata": {},
   "outputs": [
    {
     "name": "stdout",
     "output_type": "stream",
     "text": [
      "valid ]\n",
      "invalid ]\n",
      "x=> []\n"
     ]
    }
   ],
   "source": [
    "data = '([]]'\n",
    "x =[]\n",
    "for char in data :\n",
    "    if(char == '(' or char == '['): #)==(\n",
    "        x.append(char)\n",
    "    elif((char == ')' and '('== x.pop()) or (char == ']' and '[' == x.pop()) ):\n",
    "        print('valid',char)\n",
    "    else:\n",
    "        print('invalid',char)\n",
    "print('x=>',x)"
   ]
  },
  {
   "cell_type": "code",
   "execution_count": 15,
   "id": "0c24eca3-97d3-41fa-952b-735e6a8614c2",
   "metadata": {},
   "outputs": [
    {
     "name": "stdout",
     "output_type": "stream",
     "text": [
      "valid ]\n",
      "invalid ]\n",
      "x=> []\n"
     ]
    }
   ],
   "source": [
    "data = '([]]'\n",
    "x =[]\n",
    "for char in data :\n",
    "    if(char == '(' or char == '['): #)==(\n",
    "        x.append(char)\n",
    "    elif((char == ')' and '('== x.pop()) or (char == ']' and '[' == x.pop()) ):\n",
    "        print('valid',char)\n",
    "    else:\n",
    "        print('invalid',char)\n",
    "print('x=>',x)"
   ]
  },
  {
   "cell_type": "code",
   "execution_count": 20,
   "id": "154a9119-85a5-4859-ae09-93a1463ef5ee",
   "metadata": {},
   "outputs": [
    {
     "name": "stdout",
     "output_type": "stream",
     "text": [
      "valid\n"
     ]
    }
   ],
   "source": [
    "data = '([])'\n",
    "x =[]\n",
    "a = 0\n",
    "for char in data :\n",
    "    if(char == '(' or char == '['): #)==(\n",
    "        x.append(char)\n",
    "    elif((char == ')' and '('== x.pop()) or (char == ']' and '[' == x.pop()) ):\n",
    "        continue\n",
    "    else:\n",
    "        a+=1\n",
    "        break\n",
    "if(a == 1 or len(x)>1):\n",
    "    print('invalid')\n",
    "else:\n",
    "    print('valid')\n",
    "    \n"
   ]
  },
  {
   "cell_type": "code",
   "execution_count": 25,
   "id": "afd910ee-697d-4196-828e-f3c194ac6939",
   "metadata": {},
   "outputs": [
    {
     "name": "stdout",
     "output_type": "stream",
     "text": [
      "valid\n"
     ]
    }
   ],
   "source": [
    "data = '()['\n",
    "x =[]\n",
    "a = 0\n",
    "for char in data :\n",
    "    if(char == '(' or char == '['): #)==(\n",
    "        x.append(char)\n",
    "    elif(x):\n",
    "        if((char == ')' and '('== x.pop()) or (char == ']' and '[' == x.pop()) ):\n",
    "            continue\n",
    "        else:\n",
    "            a+=1\n",
    "            break\n",
    "    else:\n",
    "        a+=1\n",
    "        break\n",
    "if(a == 1 or len(x)>1):\n",
    "    print('invalid')\n",
    "else:\n",
    "    print('valid')\n",
    "    \n"
   ]
  },
  {
   "cell_type": "code",
   "execution_count": null,
   "id": "dd9eb639-113d-4507-b3ac-d2dbdad15072",
   "metadata": {},
   "outputs": [],
   "source": []
  }
 ],
 "metadata": {
  "kernelspec": {
   "display_name": "Python 3 (ipykernel)",
   "language": "python",
   "name": "python3"
  },
  "language_info": {
   "codemirror_mode": {
    "name": "ipython",
    "version": 3
   },
   "file_extension": ".py",
   "mimetype": "text/x-python",
   "name": "python",
   "nbconvert_exporter": "python",
   "pygments_lexer": "ipython3",
   "version": "3.13.3"
  }
 },
 "nbformat": 4,
 "nbformat_minor": 5
}
