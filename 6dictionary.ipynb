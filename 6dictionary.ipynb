{
 "cells": [
  {
   "cell_type": "code",
   "execution_count": 15,
   "id": "9e4311fb-6a46-436f-9b4a-f56b4cb32665",
   "metadata": {},
   "outputs": [
    {
     "name": "stdout",
     "output_type": "stream",
     "text": [
      "it is an anagram\n"
     ]
    }
   ],
   "source": [
    "s = 'rarj'\n",
    "t = 'jrra'\n",
    "dict1 = {}\n",
    "dict2 = {} \n",
    "for i in s:\n",
    "    if i in dict1:\n",
    "        dict1[i]+=1\n",
    "    else:\n",
    "        dict1[i] = 1\n",
    "for j in t:\n",
    "    if j in dict2:\n",
    "        dict2[j]+=1\n",
    "    else:\n",
    "        dict2[j] = 1\n",
    "if(dict1 == dict2):\n",
    "    print('it is an anagram')\n",
    "else:\n",
    "    print('it is not an anagram')\n",
    "    "
   ]
  },
  {
   "cell_type": "code",
   "execution_count": 28,
   "id": "5e0fe0d0-7121-4461-bfbc-48cc9e90b69a",
   "metadata": {},
   "outputs": [
    {
     "data": {
      "text/plain": [
       "[1, 2, 3, 4, 5, 6, 7, 8, 9]"
      ]
     },
     "execution_count": 28,
     "metadata": {},
     "output_type": "execute_result"
    }
   ],
   "source": [
    "#list comprehension\n",
    "[i for i in range(1,10)]"
   ]
  },
  {
   "cell_type": "code",
   "execution_count": 9,
   "id": "cbb5992a-f0f2-4ad4-8987-84b0feab8e76",
   "metadata": {},
   "outputs": [],
   "source": [
    "#set => datatype mutliple values are stored\n",
    "#contain all immuteble\n",
    "#set have all the unique value\n",
    "#set is muteble datatype\n"
   ]
  },
  {
   "cell_type": "code",
   "execution_count": 10,
   "id": "7cf0b2a4-6ef3-462d-826f-d66bc69dbe85",
   "metadata": {},
   "outputs": [
    {
     "name": "stdout",
     "output_type": "stream",
     "text": [
      "{1, 2, 3, 4, 33, 100, 45, 22}\n"
     ]
    }
   ],
   "source": [
    "myset = {1,2,3,4,1,1,1,22,33,45,45,100}\n",
    "print(myset)"
   ]
  },
  {
   "cell_type": "code",
   "execution_count": 13,
   "id": "50f45195-db70-4f11-9d82-945b9df79b27",
   "metadata": {},
   "outputs": [
    {
     "name": "stdout",
     "output_type": "stream",
     "text": [
      "{1, 2, 3, 4, 33, 100, 45, 22}\n",
      "{1, 2, 3, 4, 33, 100, 99, 45, 22}\n",
      "{1, 3, 4, 33, 100, 99, 45, 22}\n"
     ]
    }
   ],
   "source": [
    "myset = {1,2,3,4,1,1,1,22,33,45,45,100}\n",
    "print(myset)\n",
    "myset.add(99)\n",
    "print(myset)\n",
    "myset.remove(2)\n",
    "print(myset)"
   ]
  },
  {
   "cell_type": "code",
   "execution_count": 14,
   "id": "ef8e2976-dd47-48e9-ba9c-dd30d3aedba3",
   "metadata": {},
   "outputs": [
    {
     "name": "stdout",
     "output_type": "stream",
     "text": [
      "{1, 2, 3, 'y', 'h', 'e'}\n"
     ]
    }
   ],
   "source": [
    "myset = {1,2,3}\n",
    "myset.update('hey')\n",
    "print(myset)"
   ]
  },
  {
   "cell_type": "code",
   "execution_count": 16,
   "id": "1568cd4b-42b1-455d-91f2-cfe429454560",
   "metadata": {},
   "outputs": [
    {
     "data": {
      "text/plain": [
       "{1, 2, 3, 4, 8, 23, 56}"
      ]
     },
     "execution_count": 16,
     "metadata": {},
     "output_type": "execute_result"
    }
   ],
   "source": [
    "myset1 = {1,2,3}\n",
    "myset2 = {56,23,2,4,8}\n",
    "myset1.union(myset2)"
   ]
  },
  {
   "cell_type": "code",
   "execution_count": 17,
   "id": "f4e61cf4-789c-435d-a34f-202e430d2b89",
   "metadata": {},
   "outputs": [
    {
     "data": {
      "text/plain": [
       "{2}"
      ]
     },
     "execution_count": 17,
     "metadata": {},
     "output_type": "execute_result"
    }
   ],
   "source": [
    "myset1 = {1,2,3}\n",
    "myset2 = {56,23,2,4,8}\n",
    "myset1.intersection(myset2)"
   ]
  },
  {
   "cell_type": "code",
   "execution_count": 27,
   "id": "ab884514-9ebf-47f3-ac0c-0924a88f12d8",
   "metadata": {},
   "outputs": [
    {
     "name": "stdout",
     "output_type": "stream",
     "text": [
      "{1, 2, 3}\n"
     ]
    }
   ],
   "source": [
    "    set1 = {1, 2, 3, 4, 5}\n",
    "    set2 = {4, 5, 6, 7, 8}\n",
    "    difference_set = set1.difference(set2)\n",
    "    print(difference_set)"
   ]
  },
  {
   "cell_type": "code",
   "execution_count": 19,
   "id": "aa69447c-9ea4-4b81-b9e0-9df8a837aa10",
   "metadata": {},
   "outputs": [
    {
     "name": "stdout",
     "output_type": "stream",
     "text": [
      "True\n"
     ]
    }
   ],
   "source": [
    "    set1 = {1, 2, 3, 4, 5}\n",
    "    set2 = {1, 2, 3}\n",
    "    is_superset = set1.issuperset(set2)\n",
    "    print(is_superset) "
   ]
  },
  {
   "cell_type": "code",
   "execution_count": 21,
   "id": "dc4f6da3-d3cb-4411-9520-815011716e8a",
   "metadata": {},
   "outputs": [
    {
     "name": "stdout",
     "output_type": "stream",
     "text": [
      "False\n"
     ]
    }
   ],
   "source": [
    "    set1 = {1, 2, 3,4}\n",
    "    set2 = {4, 5, 6}\n",
    "    is_disjoint = set1.isdisjoint(set2)\n",
    "    print(is_disjoint) "
   ]
  },
  {
   "cell_type": "code",
   "execution_count": 26,
   "id": "60014671-0e80-4a8f-82be-599a7342f845",
   "metadata": {},
   "outputs": [
    {
     "name": "stdout",
     "output_type": "stream",
     "text": [
      "True\n"
     ]
    }
   ],
   "source": [
    "set1 = {1, 2, 3, 4, 5}\n",
    "set2 = {1, 2, 3}\n",
    "is_subset = set2.issubset(set1)\n",
    "print(is_subset) "
   ]
  },
  {
   "cell_type": "code",
   "execution_count": 29,
   "id": "0469a7f3-8f11-4e68-84e6-09c504d11426",
   "metadata": {},
   "outputs": [
    {
     "data": {
      "text/plain": [
       "{0: 0, 1: 1, 2: 4, 3: 9, 4: 16}"
      ]
     },
     "execution_count": 29,
     "metadata": {},
     "output_type": "execute_result"
    }
   ],
   "source": [
    "#dictionary comprehension\n",
    "{x:x*x for x in range(5)}"
   ]
  },
  {
   "cell_type": "code",
   "execution_count": 31,
   "id": "a6aab4c8-efb4-451f-aea7-3ed5b3698b98",
   "metadata": {},
   "outputs": [
    {
     "data": {
      "text/plain": [
       "{0, 1, 4, 9, 16}"
      ]
     },
     "execution_count": 31,
     "metadata": {},
     "output_type": "execute_result"
    }
   ],
   "source": [
    "#set comprehension\n",
    "{x*x for x in range(5)}"
   ]
  },
  {
   "cell_type": "code",
   "execution_count": 1,
   "id": "a8f10e3a-bfda-493d-89f6-95565a712e48",
   "metadata": {},
   "outputs": [
    {
     "ename": "TypeError",
     "evalue": "unsupported operand type(s) for +=: 'builtin_function_or_method' and 'int'",
     "output_type": "error",
     "traceback": [
      "\u001b[31m---------------------------------------------------------------------------\u001b[39m",
      "\u001b[31mTypeError\u001b[39m                                 Traceback (most recent call last)",
      "\u001b[36mCell\u001b[39m\u001b[36m \u001b[39m\u001b[32mIn[1]\u001b[39m\u001b[32m, line 12\u001b[39m\n\u001b[32m     10\u001b[39m     num = x%\u001b[32m10\u001b[39m\n\u001b[32m     11\u001b[39m     x//=\u001b[32m10\u001b[39m\n\u001b[32m---> \u001b[39m\u001b[32m12\u001b[39m     \u001b[38;5;28;43msum\u001b[39;49m\u001b[43m \u001b[49m\u001b[43m+\u001b[49m\u001b[43m=\u001b[49m\u001b[43m \u001b[49m\u001b[43mnum\u001b[49m\u001b[43m*\u001b[49m\u001b[43m(\u001b[49m\u001b[32;43m10\u001b[39;49m\u001b[43m*\u001b[49m\u001b[43m*\u001b[49m\u001b[43mi\u001b[49m\u001b[43m)\u001b[49m\n\u001b[32m     13\u001b[39m     i+=\u001b[32m1\u001b[39m\n\u001b[32m     14\u001b[39m \u001b[38;5;28mprint\u001b[39m(\u001b[38;5;28msum\u001b[39m)\n",
      "\u001b[31mTypeError\u001b[39m: unsupported operand type(s) for +=: 'builtin_function_or_method' and 'int'"
     ]
    }
   ],
   "source": [
    "x = 787\n",
    "y = x\n",
    "i = 0\n",
    "num = 0\n",
    "count = 0\n",
    "while i < y:\n",
    "    count+=1\n",
    "    y//=10\n",
    "while i < count:\n",
    "    num = x%10\n",
    "    x//=10\n",
    "    sum += num*(10**i)\n",
    "    i+=1\n",
    "print(sum)"
   ]
  },
  {
   "cell_type": "code",
   "execution_count": null,
   "id": "faf37d19-7883-4095-903e-7914a956ae38",
   "metadata": {},
   "outputs": [],
   "source": [
    "\n",
    "\n"
   ]
  }
 ],
 "metadata": {
  "kernelspec": {
   "display_name": "Python 3 (ipykernel)",
   "language": "python",
   "name": "python3"
  },
  "language_info": {
   "codemirror_mode": {
    "name": "ipython",
    "version": 3
   },
   "file_extension": ".py",
   "mimetype": "text/x-python",
   "name": "python",
   "nbconvert_exporter": "python",
   "pygments_lexer": "ipython3",
   "version": "3.13.3"
  }
 },
 "nbformat": 4,
 "nbformat_minor": 5
}
