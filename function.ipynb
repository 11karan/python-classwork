{
 "cells": [
  {
   "cell_type": "code",
   "execution_count": 11,
   "id": "7a0ef187-4714-41b5-b7de-4bd80cebb676",
   "metadata": {},
   "outputs": [
    {
     "name": "stdout",
     "output_type": "stream",
     "text": [
      "7\n"
     ]
    }
   ],
   "source": [
    "def my_name():\n",
    "    a = 5\n",
    "    b = 2\n",
    "    print(a+b)\n",
    "\n",
    "my_name()"
   ]
  },
  {
   "cell_type": "code",
   "execution_count": 8,
   "id": "00c3ad4a-0fa3-4f04-9ffe-8ab0f5abd71b",
   "metadata": {},
   "outputs": [
    {
     "name": "stdin",
     "output_type": "stream",
     "text": [
      "enter the number 12\n"
     ]
    },
    {
     "name": "stdout",
     "output_type": "stream",
     "text": [
      "total =  3\n"
     ]
    }
   ],
   "source": [
    "def squ():\n",
    "    i = int(input('enter the number'))\n",
    "    sum = 0\n",
    "    while(i>0):\n",
    "        d = i% 10\n",
    "        sum+=d\n",
    "        i//=10\n",
    "    print('total = ',sum)\n",
    "squ()\n"
   ]
  },
  {
   "cell_type": "code",
   "execution_count": 10,
   "id": "f45980d7-6611-4376-a5c1-bb5a887d990f",
   "metadata": {},
   "outputs": [
    {
     "name": "stdin",
     "output_type": "stream",
     "text": [
      "enter the number 12\n"
     ]
    },
    {
     "name": "stdout",
     "output_type": "stream",
     "text": [
      "even..\n"
     ]
    }
   ],
   "source": [
    "def oddeve(a):\n",
    "    if(a%2 == 0):\n",
    "        print('even..')\n",
    "    else:\n",
    "        print('odd..')\n",
    "i = int(input('enter the number'))# here parameter == a , arguement == i\n",
    "oddeve(i)"
   ]
  },
  {
   "cell_type": "code",
   "execution_count": 12,
   "id": "1fdbef51-3d19-4690-8976-f20c1c09d3fc",
   "metadata": {},
   "outputs": [],
   "source": [
    "#4 steps for function\n",
    "#def\n",
    "# function name\n",
    "#logic\n",
    "# call function"
   ]
  },
  {
   "cell_type": "code",
   "execution_count": null,
   "id": "06575681-44dd-4adc-9e6a-21c09fab2c4c",
   "metadata": {},
   "outputs": [],
   "source": []
  }
 ],
 "metadata": {
  "kernelspec": {
   "display_name": "Python 3 (ipykernel)",
   "language": "python",
   "name": "python3"
  },
  "language_info": {
   "codemirror_mode": {
    "name": "ipython",
    "version": 3
   },
   "file_extension": ".py",
   "mimetype": "text/x-python",
   "name": "python",
   "nbconvert_exporter": "python",
   "pygments_lexer": "ipython3",
   "version": "3.13.3"
  }
 },
 "nbformat": 4,
 "nbformat_minor": 5
}
