{
 "cells": [
  {
   "cell_type": "code",
   "execution_count": 2,
   "id": "52ec2c57-e543-4a1c-b846-75edf2027cda",
   "metadata": {},
   "outputs": [
    {
     "name": "stdout",
     "output_type": "stream",
     "text": [
      "[12, 13.2, 'heelo', 'how']\n"
     ]
    }
   ],
   "source": [
    "it= [12,13.2,'heelo']\n",
    "it.append('how')\n",
    "print(it)"
   ]
  },
  {
   "cell_type": "code",
   "execution_count": 3,
   "id": "143fe893-e2db-464f-94f2-bbbea4e2cede",
   "metadata": {},
   "outputs": [
    {
     "name": "stdout",
     "output_type": "stream",
     "text": [
      "10\n",
      "20\n",
      "30\n"
     ]
    }
   ],
   "source": [
    "hey = [10 ,20 ,30]\n",
    "for i in hey:\n",
    "    print(i)"
   ]
  },
  {
   "cell_type": "code",
   "execution_count": 4,
   "id": "4754109b-3565-4125-940f-8e17a43d5135",
   "metadata": {},
   "outputs": [
    {
     "name": "stdout",
     "output_type": "stream",
     "text": [
      "0 10\n",
      "1 20\n",
      "2 30\n"
     ]
    }
   ],
   "source": [
    "# recommended\n",
    "hey = [10 ,20 ,30]\n",
    "for i in range(0,3):\n",
    "    print(i,hey[i])\n"
   ]
  },
  {
   "cell_type": "code",
   "execution_count": 5,
   "id": "650dac6c-23a1-4d3e-a054-63c129917165",
   "metadata": {},
   "outputs": [
    {
     "name": "stdout",
     "output_type": "stream",
     "text": [
      "1 20\n",
      "2 30\n",
      "3 67\n",
      "7 13\n"
     ]
    }
   ],
   "source": [
    "hey = [10 , 20,30 ,67,2,5,6,13]\n",
    "for i in range(0,len(hey)):\n",
    "    if(hey[i]>10):\n",
    "        print(i,hey[i])"
   ]
  },
  {
   "cell_type": "code",
   "execution_count": 7,
   "id": "93ef8b9e-3fd2-498a-bc07-95d933ee014f",
   "metadata": {},
   "outputs": [
    {
     "name": "stdout",
     "output_type": "stream",
     "text": [
      "[20, 30, 67, 13]\n"
     ]
    }
   ],
   "source": [
    "hey = [10 , 20,30 ,67,2,5,6,13]\n",
    "new = []\n",
    "for i in range(0,len(hey)):\n",
    "    if(hey[i]>10):\n",
    "        new.append(hey[i])\n",
    "print(new)"
   ]
  },
  {
   "cell_type": "code",
   "execution_count": 9,
   "id": "66f93c4d-57ee-48cf-b0aa-66818f22e8fb",
   "metadata": {},
   "outputs": [
    {
     "name": "stdout",
     "output_type": "stream",
     "text": [
      "['hey', 'we', 'etc']\n"
     ]
    }
   ],
   "source": [
    "hey = [10 , 20,30 ,67,2,'hey','we','etc',5,6,13]\n",
    "new = []\n",
    "for i in range(0,len(hey)):\n",
    "    if(type(hey[i]) == str):\n",
    "        new.append(hey[i])\n",
    "print(new)\n"
   ]
  },
  {
   "cell_type": "code",
   "execution_count": 10,
   "id": "6c6d7136-ac38-4515-a13d-8c7020c90d67",
   "metadata": {},
   "outputs": [
    {
     "name": "stdout",
     "output_type": "stream",
     "text": [
      "999\n"
     ]
    }
   ],
   "source": [
    "hey = [10 , 20,30 ,67,2,5,6,13,999]\n",
    "max = 0\n",
    "for i in range (0,len(hey)):\n",
    "    if(hey[i]>max):\n",
    "        max = hey[i]\n",
    "print(max)\n",
    "        "
   ]
  },
  {
   "cell_type": "code",
   "execution_count": 13,
   "id": "94fcfbd8-5696-4aeb-9178-b1e84aef02c0",
   "metadata": {},
   "outputs": [
    {
     "name": "stdout",
     "output_type": "stream",
     "text": [
      "the length of list is 8\n",
      "the total is 1095\n",
      "the avg is 136\n"
     ]
    }
   ],
   "source": [
    "hey = [10 , 20,30 ,7,8,15,6,999]\n",
    "total = 0\n",
    "for i in range(0,len(hey)):\n",
    "    total+=hey[i]\n",
    "print('the length of list is',len(hey))\n",
    "print('the total is',total)\n",
    "print('the avg is',total//len(hey))"
   ]
  },
  {
   "cell_type": "code",
   "execution_count": 16,
   "id": "e3e0d56a-7ffa-4f23-aad1-aba3e5d2ae0f",
   "metadata": {},
   "outputs": [
    {
     "name": "stdout",
     "output_type": "stream",
     "text": [
      "ujjwal\n"
     ]
    }
   ],
   "source": [
    "a = ['hllo','hey','user','aman','ujjwal']\n",
    "for i in range(0,len(a)):\n",
    "    if(len(a[i])>4):\n",
    "        print(a[i])\n",
    "        \n",
    "    "
   ]
  },
  {
   "cell_type": "code",
   "execution_count": null,
   "id": "bcd787e7-6b22-4b03-87ca-b938ce03161b",
   "metadata": {},
   "outputs": [],
   "source": []
  }
 ],
 "metadata": {
  "kernelspec": {
   "display_name": "Python 3 (ipykernel)",
   "language": "python",
   "name": "python3"
  },
  "language_info": {
   "codemirror_mode": {
    "name": "ipython",
    "version": 3
   },
   "file_extension": ".py",
   "mimetype": "text/x-python",
   "name": "python",
   "nbconvert_exporter": "python",
   "pygments_lexer": "ipython3",
   "version": "3.13.3"
  }
 },
 "nbformat": 4,
 "nbformat_minor": 5
}
