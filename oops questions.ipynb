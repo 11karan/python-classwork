{
 "cells": [
  {
   "cell_type": "code",
   "execution_count": 9,
   "id": "60781f96-7a3e-4843-a970-fcd03f6c145e",
   "metadata": {},
   "outputs": [],
   "source": [
    "class examination:\n",
    "    def init (self,name,marks):\n",
    "        self.name = name\n",
    "        self.marks = []\n",
    "    def add (self,marks):\n",
    "        if 0<= marks<=100:\n",
    "            self.marks.append(marks)\n",
    "            \n",
    "        else:\n",
    "            print('invalid input')\n",
    "    def average():\n",
    "        total = 0\n",
    "        avg = 0\n",
    "        for num in self.marks:\n",
    "            total += num\n",
    "            avg = total//len(self.marks)\n",
    "            return avg"
   ]
  },
  {
   "cell_type": "code",
   "execution_count": null,
   "id": "351ec13b-5fe3-4698-bf01-b9c1d7d6acc6",
   "metadata": {},
   "outputs": [],
   "source": []
  }
 ],
 "metadata": {
  "kernelspec": {
   "display_name": "Python 3 (ipykernel)",
   "language": "python",
   "name": "python3"
  },
  "language_info": {
   "codemirror_mode": {
    "name": "ipython",
    "version": 3
   },
   "file_extension": ".py",
   "mimetype": "text/x-python",
   "name": "python",
   "nbconvert_exporter": "python",
   "pygments_lexer": "ipython3",
   "version": "3.13.3"
  }
 },
 "nbformat": 4,
 "nbformat_minor": 5
}
