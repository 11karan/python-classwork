{
 "cells": [
  {
   "cell_type": "code",
   "execution_count": 13,
   "id": "60781f96-7a3e-4843-a970-fcd03f6c145e",
   "metadata": {},
   "outputs": [
    {
     "name": "stdout",
     "output_type": "stream",
     "text": [
      "marks add for hindi: 22\n",
      "marks add for english: 25\n",
      "marks history for karan: [22, 25]\n",
      "average marks are 23\n"
     ]
    }
   ],
   "source": [
    "class examination:\n",
    "    def __init__ (self,name):\n",
    "        self.name = name\n",
    "        self.marks = []\n",
    "    def add_marks (self,subject,marks):\n",
    "        if 0<= marks<=100:\n",
    "            self.marks.append(marks)\n",
    "            return f\"marks add for {subject}: {marks}\"\n",
    "            \n",
    "        else:\n",
    "            return 'invalid input'\n",
    "    def get_marks(self):\n",
    "        return f'marks history for {self.name}: {self.marks}'\n",
    "    \n",
    "    def average(self):\n",
    "        total = 0\n",
    "        count = 0\n",
    "        for num in self.marks:\n",
    "            total += num\n",
    "            count += 1\n",
    "            avg = total//count\n",
    "        return f'average marks are {avg}'\n",
    "exam = examination('karan')\n",
    "print(exam.add_marks('hindi' ,22))\n",
    "print(exam.add_marks('english' ,25))\n",
    "print(exam.get_marks())\n",
    "print(exam.average())"
   ]
  },
  {
   "cell_type": "code",
   "execution_count": null,
   "id": "351ec13b-5fe3-4698-bf01-b9c1d7d6acc6",
   "metadata": {},
   "outputs": [],
   "source": []
  }
 ],
 "metadata": {
  "kernelspec": {
   "display_name": "Python 3 (ipykernel)",
   "language": "python",
   "name": "python3"
  },
  "language_info": {
   "codemirror_mode": {
    "name": "ipython",
    "version": 3
   },
   "file_extension": ".py",
   "mimetype": "text/x-python",
   "name": "python",
   "nbconvert_exporter": "python",
   "pygments_lexer": "ipython3",
   "version": "3.13.3"
  }
 },
 "nbformat": 4,
 "nbformat_minor": 5
}
