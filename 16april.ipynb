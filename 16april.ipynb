{
 "cells": [
  {
   "cell_type": "code",
   "execution_count": 2,
   "id": "51ddeff3-e582-488a-8faf-ba9236d153b2",
   "metadata": {},
   "outputs": [
    {
     "name": "stdin",
     "output_type": "stream",
     "text": [
      "enter the number 12\n"
     ]
    },
    {
     "name": "stdout",
     "output_type": "stream",
     "text": [
      "the total factors are 6\n"
     ]
    }
   ],
   "source": [
    "num =int(input('enter the number'))\n",
    "i = 1\n",
    "count = 0\n",
    "while(i<=num):\n",
    "    if(num%i==0):\n",
    "        count+=1\n",
    "    i+=1\n",
    "print('the total factors are',count)"
   ]
  },
  {
   "cell_type": "code",
   "execution_count": 3,
   "id": "9e74690c-9926-469e-bd44-17bf786e3787",
   "metadata": {},
   "outputs": [
    {
     "name": "stdin",
     "output_type": "stream",
     "text": [
      "enter the number 17\n"
     ]
    },
    {
     "name": "stdout",
     "output_type": "stream",
     "text": [
      "it is an prime number\n"
     ]
    }
   ],
   "source": [
    "num =int(input('enter the number'))\n",
    "i = 1\n",
    "count = 0\n",
    "while(i<=num):\n",
    "    if(num%i==0):\n",
    "        count+=1\n",
    "    i+=1\n",
    "if(count>2):\n",
    "    print('it is not an prime number')\n",
    "else:\n",
    "    print('it is an prime number')"
   ]
  },
  {
   "cell_type": "code",
   "execution_count": 1,
   "id": "bba204a5-e298-4e25-9967-5b746a0d4586",
   "metadata": {},
   "outputs": [
    {
     "name": "stdout",
     "output_type": "stream",
     "text": [
      "1\n",
      "2\n",
      "3\n"
     ]
    }
   ],
   "source": [
    "start = 1\n",
    "while(start<=5):\n",
    "    print(start)\n",
    "    if(start == 3):\n",
    "        break\n",
    "    start+=1"
   ]
  },
  {
   "cell_type": "code",
   "execution_count": 5,
   "id": "e9f0f787-7899-438b-982c-5719a0037183",
   "metadata": {},
   "outputs": [],
   "source": [
    "# break---> it is use for breaking the loop "
   ]
  },
  {
   "cell_type": "code",
   "execution_count": 6,
   "id": "b206d7dc-fe92-4487-b268-3266b0fd76f0",
   "metadata": {},
   "outputs": [],
   "source": [
    "# continue ---> it is use to skip the task and again taking back in tbe loop"
   ]
  },
  {
   "cell_type": "code",
   "execution_count": 3,
   "id": "a19ab0b7-0d2d-460e-940d-cda5ad5440a1",
   "metadata": {},
   "outputs": [
    {
     "name": "stdout",
     "output_type": "stream",
     "text": [
      "1\n",
      "2\n",
      "4\n",
      "5\n"
     ]
    }
   ],
   "source": [
    "start = 1\n",
    "while(start<=5):\n",
    "    if(start == 3):\n",
    "        start+=1\n",
    "        continue\n",
    "    print(start)\n",
    "    start+=1"
   ]
  },
  {
   "cell_type": "code",
   "execution_count": 2,
   "id": "3d83b86c-404e-44b1-b64e-a6b336167d18",
   "metadata": {},
   "outputs": [
    {
     "name": "stdin",
     "output_type": "stream",
     "text": [
      "enter the number 17\n"
     ]
    },
    {
     "name": "stdout",
     "output_type": "stream",
     "text": [
      "it is an prime number\n"
     ]
    }
   ],
   "source": [
    "num =int(input('enter the number'))\n",
    "i =1\n",
    "out = 0\n",
    "while(i<num):\n",
    "    if(num%i==0):\n",
    "        if(i == 1):\n",
    "            i+=1\n",
    "            continue\n",
    "        out+=1\n",
    "        break\n",
    "    i+=1\n",
    "if(out == 0):\n",
    "    print('it is an prime number')\n",
    "else:\n",
    "    print('it is not an prime number')"
   ]
  },
  {
   "cell_type": "code",
   "execution_count": 11,
   "id": "0b366170-3317-4a91-86b1-6731403e945b",
   "metadata": {},
   "outputs": [
    {
     "name": "stdin",
     "output_type": "stream",
     "text": [
      "enter the name: karan\n"
     ]
    },
    {
     "name": "stdout",
     "output_type": "stream",
     "text": [
      "it is not an palindrome\n"
     ]
    }
   ],
   "source": [
    "# to find where a string is a palindrome or not\n",
    "# 'saras'\n",
    "data = input('enter the name:')\n",
    "i = 0\n",
    "out = 0\n",
    "end = len(data)-1\n",
    "while(i<=(len(data)-1)):\n",
    "    if(data[i]!=data[end]):\n",
    "        out += 1\n",
    "        break\n",
    "    i+=1\n",
    "    end-=1\n",
    "if(out == 1):\n",
    "    print('it is not an palindrome')\n",
    "else:\n",
    "    print('it is an palindrome')\n",
    "    \n"
   ]
  },
  {
   "cell_type": "code",
   "execution_count": null,
   "id": "ad53e132-95d1-4df4-885e-87e1a1a677f1",
   "metadata": {},
   "outputs": [],
   "source": []
  }
 ],
 "metadata": {
  "kernelspec": {
   "display_name": "Python 3 (ipykernel)",
   "language": "python",
   "name": "python3"
  },
  "language_info": {
   "codemirror_mode": {
    "name": "ipython",
    "version": 3
   },
   "file_extension": ".py",
   "mimetype": "text/x-python",
   "name": "python",
   "nbconvert_exporter": "python",
   "pygments_lexer": "ipython3",
   "version": "3.13.3"
  }
 },
 "nbformat": 4,
 "nbformat_minor": 5
}
