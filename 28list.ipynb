{
 "cells": [
  {
   "cell_type": "code",
   "execution_count": 1,
   "id": "5f8e8aed-6eb9-4293-86d9-00d1a77d5d94",
   "metadata": {},
   "outputs": [
    {
     "name": "stdout",
     "output_type": "stream",
     "text": [
      "2 7\n"
     ]
    }
   ],
   "source": [
    "a  = [1,2,3,5,7,11,18]\n",
    "i = 0\n",
    "end  = len(a)-1\n",
    "while(i<len(a)):\n",
    "    if(a[i] + a[end]> 9):\n",
    "        end-=1\n",
    "    elif(a[i]+ a[end]< 9):\n",
    "        i+=1\n",
    "    else:\n",
    "        print(a[i],a[end])\n",
    "        break\n",
    "    \n",
    "        "
   ]
  },
  {
   "cell_type": "code",
   "execution_count": 5,
   "id": "0d6a72a3-855d-4460-96fc-246657e722de",
   "metadata": {},
   "outputs": [
    {
     "name": "stdout",
     "output_type": "stream",
     "text": [
      "it is palindrome\n"
     ]
    }
   ],
   "source": [
    "a = 'saras'\n",
    "i = 0 \n",
    "end = len(a)-1\n",
    "count = 0\n",
    "while(i<len(a)):\n",
    "    if(a[i] == a[end]):\n",
    "        i+=1\n",
    "        end-=1\n",
    "    else:\n",
    "        count+=1\n",
    "        print('it is not an palindrome')\n",
    "        break\n",
    "if(count == 0):\n",
    "    print('it is palindrome')"
   ]
  },
  {
   "cell_type": "code",
   "execution_count": 12,
   "id": "6ba2c46f-ef28-4bbc-a961-9b537fbfc194",
   "metadata": {},
   "outputs": [
    {
     "name": "stdout",
     "output_type": "stream",
     "text": [
      "[10, 31]\n"
     ]
    }
   ],
   "source": [
    "a = [10,20,10,10,10,10,31,40,31]\n",
    "new = []\n",
    "end = len(a)-1\n",
    "dup = []\n",
    "for i in range(0,len(a)):\n",
    "    if(a[i] not in new):\n",
    "        new.append(a[i])\n",
    "    else:\n",
    "        if(a[i] not in dup):\n",
    "            dup.append(a[i])\n",
    "print(dup)"
   ]
  },
  {
   "cell_type": "code",
   "execution_count": null,
   "id": "b724a273-936e-46b8-a618-4c891855c50b",
   "metadata": {},
   "outputs": [],
   "source": []
  }
 ],
 "metadata": {
  "kernelspec": {
   "display_name": "Python 3 (ipykernel)",
   "language": "python",
   "name": "python3"
  },
  "language_info": {
   "codemirror_mode": {
    "name": "ipython",
    "version": 3
   },
   "file_extension": ".py",
   "mimetype": "text/x-python",
   "name": "python",
   "nbconvert_exporter": "python",
   "pygments_lexer": "ipython3",
   "version": "3.13.3"
  }
 },
 "nbformat": 4,
 "nbformat_minor": 5
}
