{
 "cells": [
  {
   "cell_type": "code",
   "execution_count": 1,
   "id": "e5d34117-f323-4373-bc2c-a0642e2b82f0",
   "metadata": {},
   "outputs": [
    {
     "name": "stdout",
     "output_type": "stream",
     "text": [
      "[1, 8, 27, 64, 125, 216, 343]\n"
     ]
    }
   ],
   "source": [
    "\n",
    "def cube(a):\n",
    "    return a**3\n",
    "we = [1,2,3,4,5,6,7] \n",
    "it = list(map(cube, we))\n",
    "print(it)"
   ]
  },
  {
   "cell_type": "code",
   "execution_count": 2,
   "id": "50c5a1fa-b3b3-4517-9aea-6412114a4103",
   "metadata": {},
   "outputs": [
    {
     "name": "stdout",
     "output_type": "stream",
     "text": [
      "11\n"
     ]
    }
   ],
   "source": [
    "def find(*args):\n",
    "    return max(args)\n",
    "print(find(1,2,3,4,5,6,11))"
   ]
  },
  {
   "cell_type": "code",
   "execution_count": 5,
   "id": "9e7f2288-26c3-457c-bb79-c3077dfb7449",
   "metadata": {},
   "outputs": [
    {
     "name": "stdout",
     "output_type": "stream",
     "text": [
      "24\n"
     ]
    }
   ],
   "source": [
    "def product(*args):\n",
    "    a = 1\n",
    "    for i in args:\n",
    "        a*=i\n",
    "    return a\n",
    "print(product(1,2,3,4))"
   ]
  },
  {
   "cell_type": "code",
   "execution_count": 8,
   "id": "7eacbba4-4f00-4053-8877-8e04019450b0",
   "metadata": {},
   "outputs": [
    {
     "name": "stdout",
     "output_type": "stream",
     "text": [
      "unkownshekhawat\n"
     ]
    }
   ],
   "source": [
    "def name(**kwargs):\n",
    "    return f\"{kwargs.get('first.name', 'unkown')}{kwargs.get('last_name', 'singh')}\"\n",
    "print(name(last_name = 'shekhawat'))"
   ]
  },
  {
   "cell_type": "code",
   "execution_count": null,
   "id": "d6120fac-24ee-4ac8-82c1-a49d7c88616d",
   "metadata": {},
   "outputs": [],
   "source": []
  }
 ],
 "metadata": {
  "kernelspec": {
   "display_name": "Python 3 (ipykernel)",
   "language": "python",
   "name": "python3"
  },
  "language_info": {
   "codemirror_mode": {
    "name": "ipython",
    "version": 3
   },
   "file_extension": ".py",
   "mimetype": "text/x-python",
   "name": "python",
   "nbconvert_exporter": "python",
   "pygments_lexer": "ipython3",
   "version": "3.13.3"
  }
 },
 "nbformat": 4,
 "nbformat_minor": 5
}
