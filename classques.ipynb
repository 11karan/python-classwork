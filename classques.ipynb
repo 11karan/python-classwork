{
 "cells": [
  {
   "cell_type": "code",
   "execution_count": 2,
   "id": "8e648f87-6517-4b1d-9d97-76b0b96a0a2c",
   "metadata": {},
   "outputs": [
    {
     "name": "stdout",
     "output_type": "stream",
     "text": [
      "the faactorial is  120\n"
     ]
    }
   ],
   "source": [
    "class factorial:\n",
    "    def fact1(self,n):\n",
    "        if n == 0 or n == 1:\n",
    "            return 1\n",
    "        else:\n",
    "            return n* self.fact1(n-1)\n",
    "calculator = factorial()\n",
    "number = 5\n",
    "result = calculator.fact1(number)\n",
    "print('the faactorial is ',result)"
   ]
  },
  {
   "cell_type": "code",
   "execution_count": 3,
   "id": "cd208542-4438-44db-8987-f2124be4540d",
   "metadata": {},
   "outputs": [
    {
     "name": "stdout",
     "output_type": "stream",
     "text": [
      "cancer found in year:2011 \n",
      "TB found in year:2022 \n",
      "covid found in year:2024 \n",
      "the history of disease patient have is:['cancer', 'TB', 'covid']\n"
     ]
    }
   ],
   "source": [
    "class medical:\n",
    "    def __init__(self,name,age):\n",
    "        self.name = name\n",
    "        self.age = age\n",
    "        self.history = []\n",
    "    def add_disease(self,disease,year):\n",
    "        if disease not in self.history:\n",
    "            self.history.append(disease)\n",
    "            return f'{disease} found in year:{year} '\n",
    "        else:\n",
    "            return 'disease already exist'\n",
    "    def get_history(self):\n",
    "        return f'the history of disease patient have is:{self.history}'\n",
    "patient = medical('karan',20)\n",
    "print(patient.add_disease('cancer',2011))\n",
    "print(patient.add_disease('TB',2022))\n",
    "print(patient.add_disease('covid',2024))\n",
    "print(patient.get_history())\n"
   ]
  },
  {
   "cell_type": "code",
   "execution_count": null,
   "id": "d27d98b1-a94b-4b71-824d-609515b56145",
   "metadata": {},
   "outputs": [],
   "source": []
  }
 ],
 "metadata": {
  "kernelspec": {
   "display_name": "Python 3 (ipykernel)",
   "language": "python",
   "name": "python3"
  },
  "language_info": {
   "codemirror_mode": {
    "name": "ipython",
    "version": 3
   },
   "file_extension": ".py",
   "mimetype": "text/x-python",
   "name": "python",
   "nbconvert_exporter": "python",
   "pygments_lexer": "ipython3",
   "version": "3.13.3"
  }
 },
 "nbformat": 4,
 "nbformat_minor": 5
}
