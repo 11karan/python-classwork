{
 "cells": [
  {
   "cell_type": "code",
   "execution_count": 3,
   "id": "6fc335db-dd2f-46cf-8e8e-3464f4aba016",
   "metadata": {},
   "outputs": [
    {
     "name": "stdout",
     "output_type": "stream",
     "text": [
      "85\n"
     ]
    }
   ],
   "source": [
    "dic = {10:'ysh',11:'aman','salary':80}\n",
    "dic['salary'] = dic ['salary']+5\n",
    "print(dic['salary'])\n"
   ]
  },
  {
   "cell_type": "code",
   "execution_count": 4,
   "id": "76eb3eee-2aff-4a9a-a07e-bd13c7ba8e8e",
   "metadata": {},
   "outputs": [
    {
     "name": "stdout",
     "output_type": "stream",
     "text": [
      "{'h': 1, 'e': 1, 'y': 1}\n"
     ]
    }
   ],
   "source": [
    "s = 'hey'\n",
    "dic = {}\n",
    "for i in s:\n",
    "    dic[i] = 1\n",
    "print(dic)\n",
    "    \n",
    "    "
   ]
  },
  {
   "cell_type": "code",
   "execution_count": 5,
   "id": "10727f62-7ed6-4192-9d67-3f2ba29877af",
   "metadata": {},
   "outputs": [
    {
     "name": "stdout",
     "output_type": "stream",
     "text": [
      "{'total': 10}\n"
     ]
    }
   ],
   "source": [
    "s = 'helllo hey'\n",
    "diction = {'total':len(s)}\n",
    "print(diction)"
   ]
  },
  {
   "cell_type": "code",
   "execution_count": null,
   "id": "a8b10869-f5be-4674-8afd-ad1ddfd089a1",
   "metadata": {},
   "outputs": [],
   "source": []
  },
  {
   "cell_type": "code",
   "execution_count": 18,
   "id": "704ac463-df8f-4bd8-9561-48e671d391d3",
   "metadata": {},
   "outputs": [
    {
     "name": "stdout",
     "output_type": "stream",
     "text": [
      "{'e': 1, 'a': 1}\n"
     ]
    }
   ],
   "source": [
    "s = 'regx a'\n",
    "diction = {}\n",
    "for i in s:\n",
    "    if(i =='a' or i =='e' ):\n",
    "        diction[i] = 1\n",
    "print(diction)"
   ]
  },
  {
   "cell_type": "code",
   "execution_count": 19,
   "id": "83a13f1a-58d6-4324-9325-3f94bf7a87cf",
   "metadata": {},
   "outputs": [
    {
     "name": "stdout",
     "output_type": "stream",
     "text": [
      "{'e': 2, 'o': 1, 'i': 1}\n"
     ]
    }
   ],
   "source": [
    "s = 'hey hello hi'\n",
    "diction = {}\n",
    "for i in s:\n",
    "    if i in 'aeiou':\n",
    "        if i not in diction:\n",
    "            diction[i] = 1\n",
    "        else:\n",
    "            diction[i]+=1\n",
    "print(diction)\n",
    "        "
   ]
  },
  {
   "cell_type": "code",
   "execution_count": null,
   "id": "7c074939-02cf-4869-b5be-08f90dd011d1",
   "metadata": {},
   "outputs": [],
   "source": []
  }
 ],
 "metadata": {
  "kernelspec": {
   "display_name": "Python 3 (ipykernel)",
   "language": "python",
   "name": "python3"
  },
  "language_info": {
   "codemirror_mode": {
    "name": "ipython",
    "version": 3
   },
   "file_extension": ".py",
   "mimetype": "text/x-python",
   "name": "python",
   "nbconvert_exporter": "python",
   "pygments_lexer": "ipython3",
   "version": "3.13.3"
  }
 },
 "nbformat": 4,
 "nbformat_minor": 5
}
