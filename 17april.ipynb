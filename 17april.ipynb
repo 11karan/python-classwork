{
 "cells": [
  {
   "cell_type": "code",
   "execution_count": 1,
   "id": "af80308d-6dcc-45ee-8555-14d4c315baef",
   "metadata": {},
   "outputs": [
    {
     "name": "stdout",
     "output_type": "stream",
     "text": [
      "student 1\n",
      "subject is  1\n",
      "subject is  2\n",
      "subject is  3\n",
      "subject is  4\n",
      "student 2\n",
      "subject is  1\n",
      "subject is  2\n",
      "subject is  3\n",
      "subject is  4\n",
      "student 3\n",
      "subject is  1\n",
      "subject is  2\n",
      "subject is  3\n",
      "subject is  4\n"
     ]
    }
   ],
   "source": [
    "#nested loop in for\n",
    "for i in range(1,4):\n",
    "    print('student',i)\n",
    "    for j in range(1,5):\n",
    "        print('subject is ',j)"
   ]
  },
  {
   "cell_type": "code",
   "execution_count": 2,
   "id": "75034989-636d-4c78-aed6-7cb005ba6c51",
   "metadata": {},
   "outputs": [
    {
     "name": "stdout",
     "output_type": "stream",
     "text": [
      "student 1\n",
      "subject is  4\n",
      "subject is  3\n",
      "subject is  2\n",
      "subject is  1\n",
      "student 2\n",
      "subject is  4\n",
      "subject is  3\n",
      "subject is  2\n",
      "subject is  1\n",
      "student 3\n",
      "subject is  4\n",
      "subject is  3\n",
      "subject is  2\n",
      "subject is  1\n"
     ]
    }
   ],
   "source": [
    "for i in range(1,4):\n",
    "    print('student',i)\n",
    "    for j in range(4,0,-1):\n",
    "        print('subject is ',j)"
   ]
  },
  {
   "cell_type": "code",
   "execution_count": 3,
   "id": "98ea1b49-4cd3-4737-badd-7b4f83241954",
   "metadata": {},
   "outputs": [
    {
     "name": "stdout",
     "output_type": "stream",
     "text": [
      "student 1\n",
      "subject is  1\n",
      "student 2\n",
      "subject is  1\n",
      "subject is  2\n",
      "student 3\n",
      "subject is  1\n",
      "subject is  2\n",
      "subject is  3\n",
      "student 4\n",
      "subject is  1\n",
      "subject is  2\n",
      "subject is  3\n",
      "subject is  4\n"
     ]
    }
   ],
   "source": [
    "for i in range(1,5):\n",
    "    print('student',i)\n",
    "    for j in range(1,i+1):\n",
    "        print('subject is ',j)"
   ]
  },
  {
   "cell_type": "code",
   "execution_count": 5,
   "id": "02a27bc1-40bc-4f4c-8fc6-4a2bed260252",
   "metadata": {},
   "outputs": [
    {
     "name": "stdout",
     "output_type": "stream",
     "text": [
      "student 1\n",
      "subject is  1\n",
      "subject is  2\n",
      "subject is  3\n",
      "subject is  4\n",
      "student 2\n",
      "subject is  1\n",
      "subject is  2\n",
      "subject is  3\n",
      "student 3\n",
      "subject is  1\n",
      "subject is  2\n",
      "student 4\n",
      "subject is  1\n"
     ]
    }
   ],
   "source": [
    "for i in range(1,5):\n",
    "    print('student',i)\n",
    "    for j in range(1,6-i):\n",
    "        print('subject is ',j)"
   ]
  },
  {
   "cell_type": "code",
   "execution_count": 7,
   "id": "712dc479-52f1-49cd-84e2-d4dc4d0452bf",
   "metadata": {},
   "outputs": [
    {
     "name": "stdout",
     "output_type": "stream",
     "text": [
      "student 1\n",
      "subject is  4\n",
      "subject is  3\n",
      "subject is  2\n",
      "subject is  1\n",
      "student 2\n",
      "subject is  4\n",
      "subject is  3\n",
      "subject is  2\n",
      "student 3\n",
      "subject is  4\n",
      "subject is  3\n",
      "student 4\n",
      "subject is  4\n"
     ]
    }
   ],
   "source": [
    "#sir method\n",
    "for i in range(1,5):\n",
    "    print('student',i)\n",
    "    for j in range(4,i-1,-1):\n",
    "        print('subject is ',j)"
   ]
  },
  {
   "cell_type": "code",
   "execution_count": null,
   "id": "dd3de237-2037-4194-a0da-d4f55e3d8757",
   "metadata": {},
   "outputs": [],
   "source": []
  }
 ],
 "metadata": {
  "kernelspec": {
   "display_name": "Python 3 (ipykernel)",
   "language": "python",
   "name": "python3"
  },
  "language_info": {
   "codemirror_mode": {
    "name": "ipython",
    "version": 3
   },
   "file_extension": ".py",
   "mimetype": "text/x-python",
   "name": "python",
   "nbconvert_exporter": "python",
   "pygments_lexer": "ipython3",
   "version": "3.13.3"
  }
 },
 "nbformat": 4,
 "nbformat_minor": 5
}
