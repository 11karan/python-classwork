{
 "cells": [
  {
   "cell_type": "code",
   "execution_count": 11,
   "id": "1131bfe0-734d-424a-a86e-773213da3579",
   "metadata": {},
   "outputs": [],
   "source": [
    "# 2 STATIC MRTHOD\n",
    "# a static method is an method that does not operate on ehteir the class or the instance\n",
    "# it behave slightly regular fnction but it is define inside an class for logical grouping\n",
    "# it is mark with the @static method \n"
   ]
  },
  {
   "cell_type": "code",
   "execution_count": 12,
   "id": "2b573e73-0a0b-4149-862e-466dd37b0227",
   "metadata": {},
   "outputs": [],
   "source": [
    "# FEATURES OF STATIC METHOD \n",
    "\n",
    "# does not require self or cls as parameter\n",
    "# cannot odify class or instance attribute"
   ]
  },
  {
   "cell_type": "code",
   "execution_count": 7,
   "id": "b2d889a7-d12f-4300-a3ee-9330d6ebca20",
   "metadata": {},
   "outputs": [
    {
     "data": {
      "text/plain": [
       "'class employee:\\n    location = \"jaipur\"\\n    def init(self,name,role):\\n        self.name= name\\n        self.role = role\\n    def getinfo(self):\\n        print(f\"name of the employee is {self.name} and role of the employeee is {self.role}\")\\n    @staticmethod\\n    def newinfo():\\n        print(this great job)'"
      ]
     },
     "execution_count": 7,
     "metadata": {},
     "output_type": "execute_result"
    }
   ],
   "source": [
    "'''class employee:\n",
    "    location = \"jaipur\"\n",
    "    def init(self,name,role):\n",
    "        self.name= name\n",
    "        self.role = role\n",
    "    def getinfo(self):\n",
    "        print(f\"name of the employee is {self.name} and role of the employeee is {self.role}\")\n",
    "    @staticmethod\n",
    "    def newinfo():\n",
    "        print(this great job)'''"
   ]
  },
  {
   "cell_type": "code",
   "execution_count": 10,
   "id": "e1eb98f2-ac4e-4abc-9eb4-261ff9f56a0a",
   "metadata": {},
   "outputs": [],
   "source": [
    "# 3. SUPER METHOD\n",
    "#the supermethod is used to csll a method from the parent class in the context of inhertiance\n",
    "#it allow as to avoid explicitiy refering to the parent class and makes the \n"
   ]
  },
  {
   "cell_type": "code",
   "execution_count": 9,
   "id": "1b3371d1-1544-4357-926f-ae80145d353b",
   "metadata": {},
   "outputs": [],
   "source": [
    "# FEATURES OF SUPER METHOD\n",
    "# access parent calss for attribute useful in mutliple inheritance\n",
    "# help in avoiding co-repetation"
   ]
  },
  {
   "cell_type": "code",
   "execution_count": 13,
   "id": "1831c321-c280-4a7d-8bfd-aae330842551",
   "metadata": {},
   "outputs": [],
   "source": [
    "# In super method child inherits the arguements of the parent class and can also call the functions of parent class"
   ]
  },
  {
   "cell_type": "code",
   "execution_count": 14,
   "id": "a517752c-fa1e-466b-b3e9-93848bab032e",
   "metadata": {},
   "outputs": [],
   "source": [
    "#polymorphism\n",
    "# it allows object of different classes to be treated as object of an commmon super class\n",
    "# it enables t represent different underlines forms this make the code more fexible, reusable and easier to extend\n"
   ]
  },
  {
   "cell_type": "code",
   "execution_count": 17,
   "id": "cabb3270-c3b6-48b4-96d8-bef26040b5d4",
   "metadata": {},
   "outputs": [
    {
     "name": "stdout",
     "output_type": "stream",
     "text": [
      "the vehicle is moving\n",
      "the car  is moving\n",
      "the bike is moving\n"
     ]
    }
   ],
   "source": [
    "class vehicle:\n",
    "    def move(self):\n",
    "        print('the vehicle is moving')\n",
    "class car:\n",
    "    def move(self):\n",
    "        print('the car  is moving')\n",
    "class bike:\n",
    "    def move(self):\n",
    "        print('the bike is moving')\n",
    "#instances\n",
    "\n",
    "vehicle= vehicle()\n",
    "car= car()\n",
    "bike= bike()\n",
    "\n",
    "vehicle.move()\n",
    "car.move()\n",
    "bike.move()\n"
   ]
  },
  {
   "cell_type": "code",
   "execution_count": 19,
   "id": "a47e4500-2272-4d33-8c65-1e864dd2a733",
   "metadata": {},
   "outputs": [],
   "source": [
    "# DECORATORS IN PYTHON\n",
    "\n",
    "# in python decorators are an way to modify or inhance the behaviour of function or methods without directly changing there code"
   ]
  },
  {
   "cell_type": "code",
   "execution_count": 20,
   "id": "f060124f-53cf-4819-b8ff-9d56223b98a3",
   "metadata": {},
   "outputs": [],
   "source": [
    "# IN decoration function \n",
    "# wrapping is used to used to cover the main data / logic of the code\n",
    "# example :- sms received of any payment"
   ]
  },
  {
   "cell_type": "code",
   "execution_count": 21,
   "id": "7fb52cc4-3d30-43bb-8519-5180be78d6c4",
   "metadata": {},
   "outputs": [],
   "source": [
    "#what are generators in python\n",
    "# generators in python are an way to create ittersates in an simple and memory iffiecent way instead of creating the entire squence in the memory at once , it produce itterater one at an time and only when needed\n",
    "# thid is specially useful when dealing with large data set or infinte loops.\n",
    "# it is like aan normal function but uses the yield keyword instand of return\n",
    "# when the it is called it doesn't execute the function compleetly instead it reurns an genretor object that can be itterated more"
   ]
  },
  {
   "cell_type": "code",
   "execution_count": 22,
   "id": "33f0fdb6-5327-4eeb-8258-21100c6de70b",
   "metadata": {},
   "outputs": [],
   "source": [
    "# KEY POINTS\n",
    "# memory effiecent:\n",
    "#it doesnot store th entire sql in the memeory\n",
    "#values are produce normally when require\n",
    "#state retention:\n",
    "#the func state is sAVED btw yield calls"
   ]
  },
  {
   "cell_type": "code",
   "execution_count": 26,
   "id": "ab48c828-28b6-4b8a-b95d-baf8f029ce3c",
   "metadata": {},
   "outputs": [
    {
     "name": "stdout",
     "output_type": "stream",
     "text": [
      "1\n",
      "2\n",
      "3\n",
      "4\n",
      "5\n"
     ]
    }
   ],
   "source": [
    "def num_generator():\n",
    "    for i in range(1,6):\n",
    "        yield i\n",
    "gen = num_generator()\n",
    "for num in gen:\n",
    "    print(num)\n",
    "\n",
    "    "
   ]
  },
  {
   "cell_type": "code",
   "execution_count": 27,
   "id": "d0cd7af9-fbe6-478f-8fa6-4bedcd59fc82",
   "metadata": {},
   "outputs": [
    {
     "name": "stdout",
     "output_type": "stream",
     "text": [
      "1\n",
      "4\n",
      "9\n",
      "16\n",
      "25\n"
     ]
    }
   ],
   "source": [
    "def square_generator(n):\n",
    "    for i in range(1,n+1):\n",
    "        yield i*i\n",
    "squares = square_generator(5)\n",
    "for square in squares:\n",
    "    print(square)\n",
    "\n",
    "    "
   ]
  },
  {
   "cell_type": "code",
   "execution_count": null,
   "id": "82d48892-0f03-46c0-b8d1-42f38e474f53",
   "metadata": {},
   "outputs": [],
   "source": []
  }
 ],
 "metadata": {
  "kernelspec": {
   "display_name": "Python 3 (ipykernel)",
   "language": "python",
   "name": "python3"
  },
  "language_info": {
   "codemirror_mode": {
    "name": "ipython",
    "version": 3
   },
   "file_extension": ".py",
   "mimetype": "text/x-python",
   "name": "python",
   "nbconvert_exporter": "python",
   "pygments_lexer": "ipython3",
   "version": "3.13.3"
  }
 },
 "nbformat": 4,
 "nbformat_minor": 5
}
