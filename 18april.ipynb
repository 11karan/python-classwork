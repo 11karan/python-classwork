{
 "cells": [
  {
   "cell_type": "code",
   "execution_count": 3,
   "id": "a8139636-ebaa-4258-ac47-0bff5fed1fa3",
   "metadata": {},
   "outputs": [
    {
     "name": "stdout",
     "output_type": "stream",
     "text": [
      " 4 x 1 = 4\n",
      " 4 x 2 = 8\n",
      " 4 x 3 = 12\n",
      " 4 x 4 = 16\n",
      " 4 x 5 = 20\n",
      " 4 x 6 = 24\n",
      " 4 x 7 = 28\n",
      " 4 x 8 = 32\n",
      " 4 x 9 = 36\n",
      " 4 x 10 = 40\n"
     ]
    }
   ],
   "source": [
    "num = 4\n",
    "i = 1\n",
    "while(i<=10):\n",
    "    product = i*num\n",
    "    print(f' {num} x {i} = {product}')\n",
    "    i+=1"
   ]
  },
  {
   "cell_type": "code",
   "execution_count": 2,
   "id": "5b9ab0ed-db98-4e5e-be50-6a75d7112c39",
   "metadata": {},
   "outputs": [
    {
     "name": "stdout",
     "output_type": "stream",
     "text": [
      "2\n",
      "4\n",
      "6\n",
      "8\n",
      "10\n",
      "12\n",
      "14\n",
      "16\n",
      "18\n",
      "20\n",
      ".......\n",
      "3\n",
      "6\n",
      "9\n",
      "12\n",
      "15\n",
      "18\n",
      "21\n",
      "24\n",
      "27\n",
      "30\n",
      ".......\n",
      "4\n",
      "8\n",
      "12\n",
      "16\n",
      "20\n",
      "24\n",
      "28\n",
      "32\n",
      "36\n",
      "40\n",
      ".......\n",
      "5\n",
      "10\n",
      "15\n",
      "20\n",
      "25\n",
      "30\n",
      "35\n",
      "40\n",
      "45\n",
      "50\n",
      ".......\n"
     ]
    }
   ],
   "source": [
    "for num in range(2,6):\n",
    "    for i in range(1,11):\n",
    "        print(i*num)\n",
    "    print('.......')"
   ]
  },
  {
   "cell_type": "code",
   "execution_count": 5,
   "id": "4c8a46ee-1407-4c12-a645-1836cb255e34",
   "metadata": {},
   "outputs": [
    {
     "name": "stdin",
     "output_type": "stream",
     "text": [
      "enter an number 6\n"
     ]
    },
    {
     "name": "stdout",
     "output_type": "stream",
     "text": [
      "it is not an prime number\n"
     ]
    }
   ],
   "source": [
    "num = int(input('enter an number'))\n",
    "i = 2\n",
    "out = 0\n",
    "while(i<num):\n",
    "    if(num%i==0):\n",
    "        out+=1\n",
    "        break\n",
    "    i+=1\n",
    "if(out == 0):\n",
    "    print('it is an prime number')\n",
    "else:\n",
    "    print('it is not an prime number')\n",
    "        "
   ]
  },
  {
   "cell_type": "code",
   "execution_count": 13,
   "id": "113971d4-6479-4cae-84d6-9a2933969473",
   "metadata": {},
   "outputs": [
    {
     "name": "stdin",
     "output_type": "stream",
     "text": [
      "enter number one 12\n"
     ]
    },
    {
     "name": "stdout",
     "output_type": "stream",
     "text": [
      "prime number 2\n",
      "prime number 3\n",
      "prime number 5\n",
      "prime number 7\n",
      "prime number 11\n"
     ]
    }
   ],
   "source": [
    "n= int(input('enter number one'))\n",
    "i = 2\n",
    "while(i<=n):\n",
    "    c = 2\n",
    "    out = 0\n",
    "    while(c<i):\n",
    "        if(i%c==0):\n",
    "            out+=1\n",
    "            break\n",
    "        else:\n",
    "            c+=1\n",
    "    if(out == 0):\n",
    "        print('prime number',i)\n",
    "    i+=1\n",
    "    \n",
    "    "
   ]
  },
  {
   "cell_type": "code",
   "execution_count": 3,
   "id": "71bd40ff-da30-440a-838d-ffa551db741e",
   "metadata": {},
   "outputs": [
    {
     "name": "stdin",
     "output_type": "stream",
     "text": [
      "enter the number 123\n"
     ]
    },
    {
     "name": "stdout",
     "output_type": "stream",
     "text": [
      "the sum is  6\n"
     ]
    }
   ],
   "source": [
    "num = int(input('enter the number'))\n",
    "i = num\n",
    "sum = 0\n",
    "while(i>0):\n",
    "    s = num%10\n",
    "    i//=10\n",
    "    num//=10\n",
    "    sum = sum + s\n",
    "print('the sum is ',sum)"
   ]
  },
  {
   "cell_type": "code",
   "execution_count": 4,
   "id": "155f1ba5-e55c-43b7-9754-c4d2d9e37805",
   "metadata": {},
   "outputs": [
    {
     "name": "stdout",
     "output_type": "stream",
     "text": [
      "the sum is  24225\n"
     ]
    }
   ],
   "source": [
    "sum = 0\n",
    "for r in range(450,501):\n",
    "    sum+=r\n",
    "print('the sum is ',sum)"
   ]
  },
  {
   "cell_type": "code",
   "execution_count": 5,
   "id": "081bc1a0-e61d-44bc-91da-2f3f00d68a5b",
   "metadata": {},
   "outputs": [
    {
     "name": "stdout",
     "output_type": "stream",
     "text": [
      "total== 400 4\n",
      "total== 401 5\n",
      "total== 402 6\n",
      "total== 403 7\n",
      "total== 404 8\n",
      "total== 405 9\n",
      "total== 406 10\n",
      "total== 407 11\n",
      "total== 408 12\n",
      "total== 409 13\n",
      "total== 410 5\n",
      "total== 411 6\n",
      "total== 412 7\n",
      "total== 413 8\n",
      "total== 414 9\n",
      "total== 415 10\n",
      "total== 416 11\n",
      "total== 417 12\n",
      "total== 418 13\n",
      "total== 419 14\n",
      "total== 420 6\n",
      "total== 421 7\n",
      "total== 422 8\n",
      "total== 423 9\n",
      "total== 424 10\n",
      "total== 425 11\n",
      "total== 426 12\n",
      "total== 427 13\n",
      "total== 428 14\n",
      "total== 429 15\n",
      "total== 430 7\n",
      "total== 431 8\n",
      "total== 432 9\n",
      "total== 433 10\n",
      "total== 434 11\n",
      "total== 435 12\n",
      "total== 436 13\n",
      "total== 437 14\n",
      "total== 438 15\n",
      "total== 439 16\n",
      "total== 440 8\n",
      "total== 441 9\n",
      "total== 442 10\n",
      "total== 443 11\n",
      "total== 444 12\n",
      "total== 445 13\n",
      "total== 446 14\n",
      "total== 447 15\n",
      "total== 448 16\n",
      "total== 449 17\n",
      "total== 450 9\n",
      "total== 451 10\n",
      "total== 452 11\n",
      "total== 453 12\n",
      "total== 454 13\n",
      "total== 455 14\n",
      "total== 456 15\n",
      "total== 457 16\n",
      "total== 458 17\n",
      "total== 459 18\n",
      "total== 460 10\n",
      "total== 461 11\n",
      "total== 462 12\n",
      "total== 463 13\n",
      "total== 464 14\n",
      "total== 465 15\n",
      "total== 466 16\n",
      "total== 467 17\n",
      "total== 468 18\n",
      "total== 469 19\n",
      "total== 470 11\n",
      "total== 471 12\n",
      "total== 472 13\n",
      "total== 473 14\n",
      "total== 474 15\n",
      "total== 475 16\n",
      "total== 476 17\n",
      "total== 477 18\n",
      "total== 478 19\n",
      "total== 479 20\n",
      "total== 480 12\n",
      "total== 481 13\n",
      "total== 482 14\n",
      "total== 483 15\n",
      "total== 484 16\n",
      "total== 485 17\n",
      "total== 486 18\n",
      "total== 487 19\n",
      "total== 488 20\n",
      "total== 489 21\n",
      "total== 490 13\n",
      "total== 491 14\n",
      "total== 492 15\n",
      "total== 493 16\n",
      "total== 494 17\n",
      "total== 495 18\n",
      "total== 496 19\n",
      "total== 497 20\n",
      "total== 498 21\n",
      "total== 499 22\n",
      "total== 500 5\n"
     ]
    }
   ],
   "source": [
    "for num in range(400,501):\n",
    "    total = 0\n",
    "    org = num\n",
    "    while(num>0):\n",
    "        rem1=num%10\n",
    "        num=num//10\n",
    "        total+=rem1\n",
    "    print('total==',org,total)\n",
    "        \n",
    "        "
   ]
  },
  {
   "cell_type": "code",
   "execution_count": 10,
   "id": "7c51f572-8bea-41ce-9db2-6dafb04865be",
   "metadata": {},
   "outputs": [
    {
     "name": "stdin",
     "output_type": "stream",
     "text": [
      " 153\n"
     ]
    },
    {
     "name": "stdout",
     "output_type": "stream",
     "text": [
      "it is an armstrong\n"
     ]
    }
   ],
   "source": [
    "n= int(input())\n",
    "count = 0\n",
    "m= n\n",
    "x= n\n",
    "sum = 0\n",
    "while(m>0):\n",
    "    m//=10\n",
    "    count+=1\n",
    "while(x>0):\n",
    "    s = x%10\n",
    "    x//=10\n",
    "    sum =sum +s**count\n",
    "if(sum == n):\n",
    "    print('it is an armstrong')\n",
    "else:\n",
    "    print('it is not an armstrong')\n"
   ]
  },
  {
   "cell_type": "code",
   "execution_count": 12,
   "id": "ade12e35-749d-494f-90d4-1dd77808af08",
   "metadata": {},
   "outputs": [
    {
     "name": "stdout",
     "output_type": "stream",
     "text": [
      "it is an armstrong 153\n",
      "it is an armstrong 370\n",
      "it is an armstrong 371\n"
     ]
    }
   ],
   "source": [
    "for n in range(150,401):\n",
    "\n",
    "    count = 0\n",
    "    m= n\n",
    "    x= n\n",
    "    sum = 0\n",
    "    while(m>0):\n",
    "        m//=10\n",
    "        count+=1\n",
    "    while(x>0):\n",
    "        s = x%10\n",
    "        x//=10\n",
    "        sum =sum +s**count\n",
    "    if(sum == n):\n",
    "        print('it is an armstrong',n)\n"
   ]
  },
  {
   "cell_type": "code",
   "execution_count": null,
   "id": "ae7f280c-8bb4-4d5c-af24-08aff136cb20",
   "metadata": {},
   "outputs": [],
   "source": []
  }
 ],
 "metadata": {
  "kernelspec": {
   "display_name": "Python 3 (ipykernel)",
   "language": "python",
   "name": "python3"
  },
  "language_info": {
   "codemirror_mode": {
    "name": "ipython",
    "version": 3
   },
   "file_extension": ".py",
   "mimetype": "text/x-python",
   "name": "python",
   "nbconvert_exporter": "python",
   "pygments_lexer": "ipython3",
   "version": "3.13.3"
  }
 },
 "nbformat": 4,
 "nbformat_minor": 5
}
