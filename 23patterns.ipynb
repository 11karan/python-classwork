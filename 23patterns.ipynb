{
 "cells": [
  {
   "cell_type": "code",
   "execution_count": 1,
   "id": "377a06b9-f31f-4a40-81ff-31c71d51d2b0",
   "metadata": {},
   "outputs": [
    {
     "name": "stdout",
     "output_type": "stream",
     "text": [
      "      *   \n",
      "    *  *   \n",
      "  *  *  *   \n",
      "*  *  *  *   \n"
     ]
    }
   ],
   "source": [
    "for i in range(5,1,-1):\n",
    "    x = 1\n",
    "    for j in range(1,i-1):\n",
    "        print(' ',end = ' ')\n",
    "    for k in range(1,7-i):\n",
    "        print('* ',end = ' ')\n",
    "        x+=1\n",
    "    print(' ')"
   ]
  },
  {
   "cell_type": "code",
   "execution_count": 7,
   "id": "a32fae48-0175-44ae-84bc-2b92d117abbd",
   "metadata": {},
   "outputs": [
    {
     "name": "stdout",
     "output_type": "stream",
     "text": [
      "      *   \n",
      "    *  *   \n",
      "  *  *  *   \n",
      "*  *  *  *   \n"
     ]
    }
   ],
   "source": [
    "#sir's method\n",
    "for i in range (1,5):\n",
    "    for j in range(i,4):\n",
    "        print(' ',end = ' ')\n",
    "    for k in range(1,i+1):\n",
    "        print('*',end = \"  \")\n",
    "    print(' ')"
   ]
  },
  {
   "cell_type": "code",
   "execution_count": 12,
   "id": "808927d5-2043-4bbc-bb65-f65f2c586dff",
   "metadata": {},
   "outputs": [
    {
     "name": "stdout",
     "output_type": "stream",
     "text": [
      "1  2  3  4   \n",
      "  1  2  3   \n",
      "    1  2   \n",
      "      1   \n"
     ]
    }
   ],
   "source": [
    "for i in range (1,5):\n",
    "    a =1\n",
    "    for j in range(1,i):\n",
    "        print(' ',end= ' ')\n",
    "    for k in range(1,6-i):\n",
    "        print(a,end = '  ')\n",
    "        a+=1\n",
    "    print(' ')\n",
    "    "
   ]
  },
  {
   "cell_type": "code",
   "execution_count": 20,
   "id": "6d3c26c9-68b2-4370-a0a0-f5c1b07f427a",
   "metadata": {},
   "outputs": [
    {
     "name": "stdout",
     "output_type": "stream",
     "text": [
      "A  B  C  D   \n",
      "  A  B  C   \n",
      "    A  B   \n",
      "      A   \n"
     ]
    }
   ],
   "source": [
    "for i in range (1,5):\n",
    "    a =65\n",
    "    for j in range(1,i):\n",
    "        print(' ',end= ' ')\n",
    "    for k in range(1,6-i):\n",
    "        print(chr(a),end = '  ')\n",
    "        a+=1\n",
    "    print(' ')"
   ]
  },
  {
   "cell_type": "code",
   "execution_count": 18,
   "id": "0b1351a3-5510-4123-9e93-47823440b8b0",
   "metadata": {},
   "outputs": [
    {
     "name": "stdout",
     "output_type": "stream",
     "text": [
      "*  \n",
      "* *  \n",
      "* * *  \n",
      "* * * *  \n",
      "* * *  \n",
      "* *  \n",
      "*  \n"
     ]
    }
   ],
   "source": [
    "for i in range (1,5):\n",
    "    for j in range (1,i+1):\n",
    "        print('*', end= ' ')\n",
    "    print(' ')\n",
    "for k in range (4,1,-1):\n",
    "    for s in range (1,k):\n",
    "        print('*',end = ' ')\n",
    "    print(' ')\n",
    "        "
   ]
  },
  {
   "cell_type": "code",
   "execution_count": 34,
   "id": "384cc27e-da84-4990-b32c-684bad39aabe",
   "metadata": {},
   "outputs": [
    {
     "name": "stdout",
     "output_type": "stream",
     "text": [
      "* * * * *  \n",
      "  * * * *  \n",
      "    * * *  \n",
      "      * *  \n",
      "        *  \n",
      "      * *  \n",
      "    * * *  \n",
      "  * * * *  \n",
      "* * * * *  \n"
     ]
    }
   ],
   "source": [
    "for i in range (1,6):\n",
    "    for j in range(1,i):\n",
    "        print(' ',end = ' ')\n",
    "    for k in range(1,7-i):\n",
    "        print('*',end = \" \")\n",
    "    print(' ')\n",
    "for s in range (1,5):\n",
    "    for q in range(1,5-s):\n",
    "        print(' ',end = ' ')\n",
    "    for w in range (1,s+2):\n",
    "        print('*',end = ' ')\n",
    "    print(' ')"
   ]
  },
  {
   "cell_type": "code",
   "execution_count": 38,
   "id": "26229219-9cbe-4b0a-a6e0-2278ac77f2e2",
   "metadata": {},
   "outputs": [
    {
     "name": "stdout",
     "output_type": "stream",
     "text": [
      "      *  \n",
      "    * * *  \n",
      "  * * * * *  \n",
      "* * * * * * *  \n"
     ]
    }
   ],
   "source": [
    "for i in range (1,5):\n",
    "    for j in range (i,4):\n",
    "        print(' ',end = ' ')\n",
    "    for k in range (1,2*i):\n",
    "        print('* ',end = '')\n",
    "    print(' ')\n",
    "        "
   ]
  },
  {
   "cell_type": "code",
   "execution_count": 47,
   "id": "3b2b7e47-4f3a-4ccd-9a60-da4809813a21",
   "metadata": {},
   "outputs": [
    {
     "name": "stdout",
     "output_type": "stream",
     "text": [
      "      *  \n",
      "    *   *  \n",
      "  *       *  \n",
      "* * * * * * *  \n"
     ]
    }
   ],
   "source": [
    "for i in range (1,5):\n",
    "    for j in range (i,4):\n",
    "        print(' ',end = ' ')\n",
    "    for k in range (1,2*i):\n",
    "        if(i == 4 or k == 1 or k == 2*i-1 ):\n",
    "            print(\"*\",end = ' ')\n",
    "        else:\n",
    "            print(\" \",end = ' ')\n",
    "    print(' ')\n",
    "        "
   ]
  },
  {
   "cell_type": "code",
   "execution_count": null,
   "id": "ed2e9cf0-bb07-4de8-a77e-3ede1c2c781c",
   "metadata": {},
   "outputs": [],
   "source": []
  }
 ],
 "metadata": {
  "kernelspec": {
   "display_name": "Python 3 (ipykernel)",
   "language": "python",
   "name": "python3"
  },
  "language_info": {
   "codemirror_mode": {
    "name": "ipython",
    "version": 3
   },
   "file_extension": ".py",
   "mimetype": "text/x-python",
   "name": "python",
   "nbconvert_exporter": "python",
   "pygments_lexer": "ipython3",
   "version": "3.13.3"
  }
 },
 "nbformat": 4,
 "nbformat_minor": 5
}
