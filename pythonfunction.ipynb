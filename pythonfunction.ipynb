{
 "cells": [
  {
   "cell_type": "code",
   "execution_count": 1,
   "metadata": {
    "id": "VvRteLW9kv2z"
   },
   "outputs": [],
   "source": [
    "# Functions in Python\n",
    "# Function is reusable block of code ."
   ]
  },
  {
   "cell_type": "code",
   "execution_count": 2,
   "metadata": {
    "id": "TfyPK1m3k9S6"
   },
   "outputs": [],
   "source": [
    "# Types of Functions\n",
    "# (a). Pre-defined function  ----> print() , sum() , main() , max() , append() .....\n",
    "# (b). Manually Created function --->\n",
    "# step-1 def\n",
    "# step-2 Name of function\n",
    "# step-3 logic for create the function\n",
    "# step-4 Call the function (Name of function)"
   ]
  },
  {
   "cell_type": "code",
   "execution_count": 3,
   "metadata": {
    "id": "CQRdXXa2lw1d"
   },
   "outputs": [],
   "source": [
    "# # syntax :\n",
    "# def Name_of_function():\n",
    "#   logic\n",
    "# Name_of_function()"
   ]
  },
  {
   "cell_type": "code",
   "execution_count": 7,
   "metadata": {
    "id": "I6-0CQmel9AL"
   },
   "outputs": [],
   "source": [
    "# Q.1 Create a function who add 2 numbers ?\n",
    "def my_add():\n",
    "  a = 5\n",
    "  b = 6\n",
    "  c = a + b\n",
    "  print(\"Total = \" , c)\n"
   ]
  },
  {
   "cell_type": "code",
   "execution_count": 8,
   "metadata": {
    "colab": {
     "base_uri": "https://localhost:8080/"
    },
    "id": "gVfUmEVAmSMB",
    "outputId": "d3ecd7c9-62d0-4f94-c9f2-96fa1ba451aa"
   },
   "outputs": [
    {
     "name": "stdout",
     "output_type": "stream",
     "text": [
      "Total =  11\n"
     ]
    }
   ],
   "source": [
    "my_add()"
   ]
  },
  {
   "cell_type": "code",
   "execution_count": 9,
   "metadata": {
    "id": "kpxBEKMVmV7p"
   },
   "outputs": [],
   "source": [
    "# Q.2 Create a function who add sum of square of a given number ?"
   ]
  },
  {
   "cell_type": "code",
   "execution_count": 11,
   "metadata": {
    "colab": {
     "base_uri": "https://localhost:8080/"
    },
    "id": "QS7z0Wa3mjLg",
    "outputId": "e91fa1b9-bf0c-4dd2-9449-bbf246714011"
   },
   "outputs": [
    {
     "name": "stdout",
     "output_type": "stream",
     "text": [
      "Total =  14\n"
     ]
    }
   ],
   "source": [
    "i = 1\n",
    "n = 3\n",
    "sum = 0\n",
    "while(i<=n):\n",
    "  sum = sum + i**2\n",
    "  i = i + 1\n",
    "print(\"Total = \" , sum)"
   ]
  },
  {
   "cell_type": "code",
   "execution_count": 12,
   "metadata": {
    "id": "6VxowFuCmx9R"
   },
   "outputs": [],
   "source": [
    "# i = 1,2,3\n",
    "# 1**2 + 2**2+ 3**2  = 1 + 4 + 9 = 14"
   ]
  },
  {
   "cell_type": "code",
   "execution_count": 14,
   "metadata": {
    "colab": {
     "base_uri": "https://localhost:8080/"
    },
    "id": "n9FUC02wm97N",
    "outputId": "5bbdd5ea-c07b-4272-e088-70eca450ee8e"
   },
   "outputs": [
    {
     "name": "stdout",
     "output_type": "stream",
     "text": [
      "Total =  14\n"
     ]
    }
   ],
   "source": [
    "def my_squ():\n",
    "  i=1\n",
    "  n=3\n",
    "  sum=0\n",
    "  while(i<=n):\n",
    "    sum=sum+i**2\n",
    "    i=i+1\n",
    "  print(\"Total = \" , sum)\n",
    "my_squ()"
   ]
  },
  {
   "cell_type": "code",
   "execution_count": 16,
   "metadata": {
    "colab": {
     "base_uri": "https://localhost:8080/"
    },
    "id": "DRXq0IR5nHWz",
    "outputId": "fe6bff43-5362-47d4-d261-8e63a29722f9"
   },
   "outputs": [
    {
     "name": "stdout",
     "output_type": "stream",
     "text": [
      "Total = 10\n"
     ]
    }
   ],
   "source": [
    "i = 1234\n",
    "sum = 0\n",
    "while(i>0):\n",
    "  d = i%10\n",
    "  sum = sum + d\n",
    "  i  = i//10\n",
    "print(\"Total =\" , sum)\n"
   ]
  },
  {
   "cell_type": "code",
   "execution_count": 17,
   "metadata": {
    "id": "DcjYjXm-n3S6"
   },
   "outputs": [],
   "source": [
    "# i = 1+2+3+4 = 10"
   ]
  },
  {
   "cell_type": "code",
   "execution_count": 18,
   "metadata": {
    "id": "JQn57D1tn7_0"
   },
   "outputs": [],
   "source": [
    "# Q.2 Create a function in which user will give a number and we have to calculate sum of this number ."
   ]
  },
  {
   "cell_type": "code",
   "execution_count": 20,
   "metadata": {
    "colab": {
     "base_uri": "https://localhost:8080/"
    },
    "id": "kHCxVWhsoB3L",
    "outputId": "12799583-8bbd-418d-8622-3642d8fec892"
   },
   "outputs": [
    {
     "name": "stdout",
     "output_type": "stream",
     "text": [
      "Enter number:1234\n",
      "Sum =  10\n"
     ]
    }
   ],
   "source": [
    "def my_add():\n",
    "  i = int(input(\"Enter number:\"))\n",
    "  sum=0\n",
    "  while(i>0):\n",
    "    d = i%10\n",
    "    sum = sum + d\n",
    "    i = i//10\n",
    "  print(\"Sum = \" , sum)\n",
    "my_add()\n"
   ]
  },
  {
   "cell_type": "code",
   "execution_count": 21,
   "metadata": {
    "id": "SpcpzljKoRk8"
   },
   "outputs": [],
   "source": [
    "# Arguments and Parameters\n",
    "\n",
    "# Parameters ---> These are the values which we passes when we create a function .\n",
    "# Arguments ----> These are the values which we passes when we call a function ."
   ]
  },
  {
   "cell_type": "code",
   "execution_count": 23,
   "metadata": {
    "colab": {
     "base_uri": "https://localhost:8080/"
    },
    "id": "EjG0pd1ar7jF",
    "outputId": "f17a2821-bdd6-4f08-8666-aa09b5857954"
   },
   "outputs": [
    {
     "name": "stdout",
     "output_type": "stream",
     "text": [
      "Total =  7\n"
     ]
    }
   ],
   "source": [
    "def my_add(a,b):\n",
    "  c = a + b\n",
    "  print(\"Total = \",c)\n",
    "my_add(3,4)\n",
    "\n",
    "### here (a,b) ---> Parameters , (3,4) ---> Arguments"
   ]
  },
  {
   "cell_type": "code",
   "execution_count": 24,
   "metadata": {
    "id": "O_bHZnvWsB8Y"
   },
   "outputs": [],
   "source": [
    "# Q.2 Write a program who can check given number is odd or even ?"
   ]
  },
  {
   "cell_type": "code",
   "execution_count": 26,
   "metadata": {
    "colab": {
     "base_uri": "https://localhost:8080/"
    },
    "id": "Z7vltYtRsMGO",
    "outputId": "58153df4-72fa-497d-a082-94ed75468e6c"
   },
   "outputs": [
    {
     "name": "stdout",
     "output_type": "stream",
     "text": [
      "Enter number:35\n",
      "Odd Number...\n"
     ]
    }
   ],
   "source": [
    "def oddeve():\n",
    "  i = int(input(\"Enter number:\"))\n",
    "  if(i%2==0):\n",
    "    print(\"Even Number\")\n",
    "  else:\n",
    "    print(\"Odd Number...\")\n",
    "oddeve()"
   ]
  },
  {
   "cell_type": "code",
   "execution_count": 32,
   "metadata": {
    "colab": {
     "base_uri": "https://localhost:8080/"
    },
    "id": "MPDmop_DsZaF",
    "outputId": "5baacec7-aaa6-4c68-8049-8600057d8af1"
   },
   "outputs": [
    {
     "name": "stdout",
     "output_type": "stream",
     "text": [
      "Enter number:49\n",
      "Odd Number\n"
     ]
    }
   ],
   "source": [
    "def oddeve(a):\n",
    "  if(a%2==0):\n",
    "    print(\"Even Number\")\n",
    "  else:\n",
    "    print(\"Odd Number\")\n",
    "p= int(input(\"Enter number:\"))\n",
    "oddeve(p)\n",
    "\n",
    "### here (a) ---> Parameter , (49 , p) ----> Argument"
   ]
  },
  {
   "cell_type": "code",
   "execution_count": null,
   "metadata": {
    "id": "QBA9APlHsp27"
   },
   "outputs": [],
   "source": []
  }
 ],
 "metadata": {
  "colab": {
   "provenance": []
  },
  "kernelspec": {
   "display_name": "Python 3 (ipykernel)",
   "language": "python",
   "name": "python3"
  },
  "language_info": {
   "codemirror_mode": {
    "name": "ipython",
    "version": 3
   },
   "file_extension": ".py",
   "mimetype": "text/x-python",
   "name": "python",
   "nbconvert_exporter": "python",
   "pygments_lexer": "ipython3",
   "version": "3.13.3"
  }
 },
 "nbformat": 4,
 "nbformat_minor": 4
}
