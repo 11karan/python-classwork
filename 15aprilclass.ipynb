{
 "cells": [
  {
   "cell_type": "code",
   "execution_count": 1,
   "id": "f1c7d4bd-510e-401e-b6a8-f97280451066",
   "metadata": {},
   "outputs": [
    {
     "name": "stdout",
     "output_type": "stream",
     "text": [
      "45\n",
      "42\n",
      "39\n",
      "36\n",
      "33\n",
      "30\n",
      "27\n",
      "24\n",
      "21\n",
      "18\n",
      "15\n",
      "12\n",
      "9\n",
      "6\n"
     ]
    }
   ],
   "source": [
    "i = 47\n",
    "while(i>=5):\n",
    "    if(i%3==0):\n",
    "        print(i)\n",
    "    i = i -1    "
   ]
  },
  {
   "cell_type": "code",
   "execution_count": 4,
   "id": "6b34d8db-acb5-4d4b-a800-1a82ec4cbe3d",
   "metadata": {},
   "outputs": [
    {
     "name": "stdout",
     "output_type": "stream",
     "text": [
      "1\n",
      "7\n"
     ]
    }
   ],
   "source": [
    "i = 1\n",
    "while(i<=7):\n",
    "    if(7%i==0):\n",
    "        print(i)\n",
    "    i=i+1\n",
    "        \n",
    "    "
   ]
  },
  {
   "cell_type": "code",
   "execution_count": 2,
   "id": "8714620a-c255-4e4c-bee4-16d13076cd26",
   "metadata": {},
   "outputs": [
    {
     "name": "stdout",
     "output_type": "stream",
     "text": [
      "26\n"
     ]
    }
   ],
   "source": [
    "i =100\n",
    "count = 0\n",
    "while(i>=49):\n",
    "    if(i%2 !=0):\n",
    "        count+=1\n",
    "    i-=1\n",
    "print(count)"
   ]
  },
  {
   "cell_type": "code",
   "execution_count": 3,
   "id": "639f466f-c3b0-4a61-a070-394744bca7f9",
   "metadata": {},
   "outputs": [
    {
     "name": "stdout",
     "output_type": "stream",
     "text": [
      "a\n",
      "j\n",
      "a\n",
      "y\n"
     ]
    }
   ],
   "source": [
    "data = 'ajay'\n",
    "for i in range (0,len(data)):\n",
    "    print(data[i])"
   ]
  },
  {
   "cell_type": "code",
   "execution_count": 4,
   "id": "f8e37805-a7cd-4442-8864-1430978d5f36",
   "metadata": {},
   "outputs": [],
   "source": [
    "#len function is used for calculate length of the variable"
   ]
  },
  {
   "cell_type": "code",
   "execution_count": 3,
   "id": "ed240bda-a21d-4256-a96c-e576ab6e16bd",
   "metadata": {},
   "outputs": [
    {
     "name": "stdout",
     "output_type": "stream",
     "text": [
      "a\n",
      "j\n",
      "a\n",
      "y\n"
     ]
    }
   ],
   "source": [
    "data = 'ajay'\n",
    "i = 0\n",
    "while(i<len(data)):\n",
    "    print(data[i])\n",
    "    i+=1"
   ]
  },
  {
   "cell_type": "code",
   "execution_count": 5,
   "id": "aa927aad-11b5-490f-9b6e-23948554f8d6",
   "metadata": {},
   "outputs": [
    {
     "name": "stdout",
     "output_type": "stream",
     "text": [
      "vowel a\n",
      "vowel u\n"
     ]
    }
   ],
   "source": [
    "data = 'rajuv'\n",
    "i = 0\n",
    "while(i<len(data)):\n",
    "    if(data[i]=='a' or data[i]=='u'):\n",
    "        print('vowel',data[i])\n",
    "    i+=1"
   ]
  },
  {
   "cell_type": "markdown",
   "id": "93ab41ee-7ca4-4325-8a06-0b3eabfdf39d",
   "metadata": {},
   "source": [
    "num = 876\n",
    "while(num>0):\n",
    "    rem = rem%10\n",
    "    num//=10\n",
    "    print('first time',rem , num)\n"
   ]
  },
  {
   "cell_type": "code",
   "execution_count": 7,
   "id": "d605bc36-9c1d-4b9f-8754-17f0740467c9",
   "metadata": {},
   "outputs": [
    {
     "name": "stdout",
     "output_type": "stream",
     "text": [
      "first time 6 87\n",
      "first time 7 8\n",
      "first time 8 0\n"
     ]
    }
   ],
   "source": [
    "num = 876 \n",
    "while(num>0):\n",
    "    rem = num%10 \n",
    "    num//=10 \n",
    "    print('first time',rem , num)"
   ]
  },
  {
   "cell_type": "code",
   "execution_count": null,
   "id": "91b83209-17cf-4e4b-9a27-d871d6e4ff58",
   "metadata": {},
   "outputs": [],
   "source": []
  }
 ],
 "metadata": {
  "kernelspec": {
   "display_name": "Python 3 (ipykernel)",
   "language": "python",
   "name": "python3"
  },
  "language_info": {
   "codemirror_mode": {
    "name": "ipython",
    "version": 3
   },
   "file_extension": ".py",
   "mimetype": "text/x-python",
   "name": "python",
   "nbconvert_exporter": "python",
   "pygments_lexer": "ipython3",
   "version": "3.13.3"
  }
 },
 "nbformat": 4,
 "nbformat_minor": 5
}
