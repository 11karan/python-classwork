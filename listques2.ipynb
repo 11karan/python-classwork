{
 "cells": [
  {
   "cell_type": "code",
   "execution_count": 7,
   "id": "9102690d-3505-4cee-be09-c1207e734685",
   "metadata": {},
   "outputs": [
    {
     "name": "stdout",
     "output_type": "stream",
     "text": [
      "[(1, 5), (2, 4), (3, 3)]\n"
     ]
    }
   ],
   "source": [
    "numbers = [1, 2, 3, 4, 3, 5, 6]\n",
    "target = 6\n",
    "i = 0\n",
    "end = len(numbers)-1\n",
    "list = []\n",
    "numbers.sort()\n",
    "while (i<end):\n",
    "    if(numbers[i]+numbers[end]>target):\n",
    "        end-=1\n",
    "    elif(numbers[i]+numbers[end]<target):\n",
    "        i+=1\n",
    "    else:\n",
    "        a = (numbers[i],numbers[end])\n",
    "        list.append(a)\n",
    "        i+=1\n",
    "print(list)"
   ]
  },
  {
   "cell_type": "code",
   "execution_count": 26,
   "id": "ec710c0d-fa1b-4043-b674-45cfed262231",
   "metadata": {},
   "outputs": [
    {
     "name": "stdout",
     "output_type": "stream",
     "text": [
      "[1, [2, 3], [4, [5, 6], 7], 8]\n"
     ]
    }
   ],
   "source": [
    "nested = [1, [2, 3], [4, [5, 6], 7], 8]\n",
    "new = []\n",
    "for i in range(0,len(nested)):\n",
    "    if (type(nested[i])==list):\n",
    "        for j in range(len(nested[i])):\n",
    "            new.append(nested[i][j])\n",
    "    else:\n",
    "        new.append(nested[i])\n",
    "print(new)\n",
    "        \n"
   ]
  },
  {
   "cell_type": "code",
   "execution_count": 30,
   "id": "e1c17d25-6256-442e-8e96-d23a58f214d3",
   "metadata": {},
   "outputs": [
    {
     "name": "stdout",
     "output_type": "stream",
     "text": [
      "9\n"
     ]
    }
   ],
   "source": [
    "numbers = [1, 2, 3, 4, 5]\n",
    "min  = numbers[0]\n",
    "max = 0\n",
    "sum = 0\n",
    "for i in range(1,len(numbers)):\n",
    "    if(numbers[0]>numbers[i]):\n",
    "        min = numbers[i]\n",
    "    if(max<numbers[i]):\n",
    "        max = numbers[i]\n",
    "for j in range(0,len(numbers)):\n",
    "    if(numbers[j] != min and numbers[j] != max  ):\n",
    "        sum+=numbers[j]\n",
    "print(sum)"
   ]
  },
  {
   "cell_type": "code",
   "execution_count": 33,
   "id": "47afd4c2-813e-4c75-bf97-35603d3921e6",
   "metadata": {},
   "outputs": [
    {
     "name": "stdout",
     "output_type": "stream",
     "text": [
      "it is an palindrome\n"
     ]
    }
   ],
   "source": [
    "numbers = [1, 2, 3, 2, 1]\n",
    "i = 0\n",
    "count = 0\n",
    "end  = len(numbers)-1\n",
    "while i<end:\n",
    "    if(numbers[i] != numbers[end]):\n",
    "        count+=1\n",
    "        break\n",
    "    else:\n",
    "        i+=1\n",
    "        end-=1\n",
    "if(count == 0):\n",
    "    print('it is an palindrome')\n",
    "else:\n",
    "    print('it is not an palindrome')"
   ]
  },
  {
   "cell_type": "code",
   "execution_count": 34,
   "id": "fca5f71c-863a-40fd-a439-608a35f73550",
   "metadata": {},
   "outputs": [
    {
     "name": "stdout",
     "output_type": "stream",
     "text": [
      "[1, 2, 3, 4, 5, 6]\n"
     ]
    }
   ],
   "source": [
    "numbers = [1, 2, 3, 2, 4, 5, 1, 6]\n",
    "new = []\n",
    "for i in range(0,len(numbers)):\n",
    "    if(numbers[i] not in new):\n",
    "        new.append(numbers[i])\n",
    "print(new)"
   ]
  },
  {
   "cell_type": "code",
   "execution_count": 1,
   "id": "bd81e62d-197e-4cec-ad91-918876e8b178",
   "metadata": {},
   "outputs": [
    {
     "name": "stdout",
     "output_type": "stream",
     "text": [
      "[3, 4, 5]\n"
     ]
    }
   ],
   "source": [
    "list1 = [1, 2, 3, 4, 5]\n",
    "list2 = [3, 4, 5, 6, 7]\n",
    "new  = []\n",
    "i = 0 \n",
    "while(i<len(list1)):\n",
    "    if(list1[i] in list2):\n",
    "        new.append(list1[i])\n",
    "    i+=1\n",
    "print(new)"
   ]
  },
  {
   "cell_type": "code",
   "execution_count": 5,
   "id": "92ff13f9-da66-4d0f-b984-e96d9baff890",
   "metadata": {},
   "outputs": [
    {
     "name": "stdout",
     "output_type": "stream",
     "text": [
      "strawberry\n"
     ]
    }
   ],
   "source": [
    "words = [\"apple\", \"banana\", \"strawberry\", \"kiwi\"]\n",
    "max = 0\n",
    "maximum = None\n",
    "for i in range(0,len(words)):\n",
    "    if(max<len(words[i])):\n",
    "        maximum = words[i]\n",
    "        max = len(words[i])\n",
    "print(maximum)"
   ]
  },
  {
   "cell_type": "code",
   "execution_count": 7,
   "id": "fc62c32c-b744-42ce-88da-17b4f655c488",
   "metadata": {},
   "outputs": [
    {
     "name": "stdout",
     "output_type": "stream",
     "text": [
      "the missing number is  3\n"
     ]
    }
   ],
   "source": [
    "numbers = [1, 2, 4, 5, 6]\n",
    "j = 1\n",
    "for i in range(1,len(numbers)):\n",
    "    if(numbers[i] !=j + numbers[i-1]):\n",
    "        print('the missing number is ',j + numbers[i-1])\n",
    "        break\n",
    "    "
   ]
  },
  {
   "cell_type": "code",
   "execution_count": 4,
   "id": "a23984e4-caf4-4c7b-ac20-89b2bc3c9252",
   "metadata": {},
   "outputs": [
    {
     "name": "stdout",
     "output_type": "stream",
     "text": [
      "1\n"
     ]
    }
   ],
   "source": [
    "numbers = [4, 5, 1, 2, 0, 4, 5, 2]\n",
    "new = []\n",
    "\n",
    "for i in range(0,len(numbers)):\n",
    "    if (numbers.count(numbers[i]) == 1):\n",
    "        new.append(numbers[i])\n",
    "print(new[0])\n"
   ]
  },
  {
   "cell_type": "code",
   "execution_count": 6,
   "id": "4e30de00-91c7-4664-a5b2-5708ef7d86e6",
   "metadata": {},
   "outputs": [
    {
     "name": "stdout",
     "output_type": "stream",
     "text": [
      "1\n"
     ]
    }
   ],
   "source": [
    "numbers = [4, 5, 1, 2, 0, 4, 5, 2]\n",
    "new = {}\n",
    "for i in range(0,len(numbers)):\n",
    "    new[i] = 0\n",
    "    for j in range(i+1,len(numbers)):\n",
    "        if(numbers[i] == numbers[j]):\n",
    "            new[i] +=1\n",
    "        \n",
    "    if(new[i] == 0):\n",
    "        print(numbers[i])\n",
    "        break"
   ]
  },
  {
   "cell_type": "code",
   "execution_count": null,
   "id": "a354ff7c-11a1-4496-90c2-4a5996f13639",
   "metadata": {},
   "outputs": [],
   "source": []
  }
 ],
 "metadata": {
  "kernelspec": {
   "display_name": "Python 3 (ipykernel)",
   "language": "python",
   "name": "python3"
  },
  "language_info": {
   "codemirror_mode": {
    "name": "ipython",
    "version": 3
   },
   "file_extension": ".py",
   "mimetype": "text/x-python",
   "name": "python",
   "nbconvert_exporter": "python",
   "pygments_lexer": "ipython3",
   "version": "3.13.3"
  }
 },
 "nbformat": 4,
 "nbformat_minor": 5
}
