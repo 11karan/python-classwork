{
 "cells": [
  {
   "cell_type": "code",
   "execution_count": 1,
   "id": "2e00aac1-8213-4233-9792-17356c436c52",
   "metadata": {},
   "outputs": [
    {
     "name": "stdout",
     "output_type": "stream",
     "text": [
      "7\n"
     ]
    }
   ],
   "source": [
    "we = [10,20,30,40,60,7]\n",
    "max = we[0]\n",
    "for  i in range(0,len(we)):\n",
    "    if(max > we[i]):\n",
    "        max = we[i]\n",
    "print(max)"
   ]
  },
  {
   "cell_type": "code",
   "execution_count": 4,
   "id": "8aefe1b7-344d-4382-8f30-0c68f8c3aa02",
   "metadata": {},
   "outputs": [
    {
     "name": "stdout",
     "output_type": "stream",
     "text": [
      "40\n"
     ]
    }
   ],
   "source": [
    "we = [10,20,30,40,60,7]\n",
    "max = we[0]\n",
    "sec = 0\n",
    "for  i in range(0,len(we)):\n",
    "    if(max < we[i]):\n",
    "        sec = max\n",
    "        max = we[i]\n",
    "print(sec)"
   ]
  },
  {
   "cell_type": "code",
   "execution_count": 9,
   "id": "29599f4f-d069-4cef-80f9-a823488f205a",
   "metadata": {},
   "outputs": [
    {
     "name": "stdout",
     "output_type": "stream",
     "text": [
      "50\n"
     ]
    }
   ],
   "source": [
    "#second maximum\n",
    "we = [10,20,30,40,60,7,50,60]\n",
    "max = we[0]\n",
    "sec = 0\n",
    "for  i in range(0,len(we)):\n",
    "    if(max < we[i]):\n",
    "        sec = max\n",
    "        max = we[i]\n",
    "    elif(sec< we[i] and we[i] != max):\n",
    "        sec = we[i]\n",
    "print(sec)"
   ]
  },
  {
   "cell_type": "code",
   "execution_count": 17,
   "id": "5aad1373-8c73-4ee4-88dc-d8cb5e70446e",
   "metadata": {},
   "outputs": [
    {
     "name": "stdout",
     "output_type": "stream",
     "text": [
      "duplicate 50\n",
      "[10, 20, 30, 40, 60, 7, 10, 60, 9]\n"
     ]
    }
   ],
   "source": [
    "#recheck\n",
    "we = [10,20,30,40,60,7,10,50,60,9]\n",
    "new = []\n",
    "for i in range (0,len(we)):\n",
    "    if(i not in new ):\n",
    "        new.append(we[i])\n",
    "\n",
    "    else:\n",
    "        print('duplicate',we[i])\n",
    "print(new)"
   ]
  },
  {
   "cell_type": "code",
   "execution_count": 14,
   "id": "4dbe80e2-8eaa-4848-a2b0-99e323df2317",
   "metadata": {},
   "outputs": [
    {
     "name": "stdout",
     "output_type": "stream",
     "text": [
      "10\n",
      "10 20\n",
      "10 30\n",
      "10 40\n"
     ]
    }
   ],
   "source": [
    "we = [10,20 ,30 ,40]\n",
    "for i in range(0,1):\n",
    "    print(we[i])\n",
    "    for j in range(1,4):\n",
    "        print(we[i],we[j])"
   ]
  },
  {
   "cell_type": "code",
   "execution_count": 18,
   "id": "a293bfaa-54ef-4efa-a434-fcc5772ad8db",
   "metadata": {},
   "outputs": [
    {
     "name": "stdout",
     "output_type": "stream",
     "text": [
      "----- 10\n",
      "10 20\n",
      "10 30\n",
      "10 40\n",
      "----- 20\n",
      "20 30\n",
      "20 40\n",
      "----- 30\n",
      "30 40\n",
      "----- 40\n"
     ]
    }
   ],
   "source": [
    "we = [10,20 ,30 ,40]\n",
    "for i in range(0,4):\n",
    "    print('-----',we[i])\n",
    "    for j in range(i+1,4):\n",
    "        print(we[i],we[j])"
   ]
  },
  {
   "cell_type": "code",
   "execution_count": 19,
   "id": "b2aa7d82-bb4e-4659-84a0-e55e593acf3f",
   "metadata": {},
   "outputs": [
    {
     "data": {
      "text/plain": [
       "'we = [10,20 ,30 ,40,10,3,5,30]\\nfor i in range(0,4):\\n    for j in range(i+1,):\\n        print(we[i],we[j])'"
      ]
     },
     "execution_count": 19,
     "metadata": {},
     "output_type": "execute_result"
    }
   ],
   "source": [
    "'''we = [10,20 ,30 ,40,10,3,5,30]\n",
    "for i in range(0,4):\n",
    "    for j in range(i+1,):\n",
    "        print(we[i],we[j])'''"
   ]
  },
  {
   "cell_type": "code",
   "execution_count": 2,
   "id": "1b9949bc-5bfa-4c98-a180-1e6ad5db3e62",
   "metadata": {},
   "outputs": [
    {
     "name": "stdout",
     "output_type": "stream",
     "text": [
      "2 7\n"
     ]
    }
   ],
   "source": [
    "we = [1,2,3,7,14]\n",
    "target = 9\n",
    "for i in range(0,len(we)):\n",
    "    for j in range(i+1,len(we)):\n",
    "        if(we[i] +we[j] == target):\n",
    "            print(we[i],we[j])\n",
    "    "
   ]
  },
  {
   "cell_type": "code",
   "execution_count": 4,
   "id": "3e584ef1-bd95-48d8-97d6-9e21304c4ee0",
   "metadata": {},
   "outputs": [
    {
     "name": "stdout",
     "output_type": "stream",
     "text": [
      "duplicate e\n",
      "duplicate l\n"
     ]
    }
   ],
   "source": [
    "we = 'hello user'\n",
    "for i in range(0,len(we)):\n",
    "    for j in range(i+1,len(we)):\n",
    "        if(we[i]  ==we[j]):\n",
    "            print('duplicate',we[j])\n",
    "    "
   ]
  },
  {
   "cell_type": "code",
   "execution_count": null,
   "id": "2414286b-c5fe-42b1-a59e-614d1f1040f3",
   "metadata": {},
   "outputs": [],
   "source": []
  }
 ],
 "metadata": {
  "kernelspec": {
   "display_name": "Python 3 (ipykernel)",
   "language": "python",
   "name": "python3"
  },
  "language_info": {
   "codemirror_mode": {
    "name": "ipython",
    "version": 3
   },
   "file_extension": ".py",
   "mimetype": "text/x-python",
   "name": "python",
   "nbconvert_exporter": "python",
   "pygments_lexer": "ipython3",
   "version": "3.13.3"
  }
 },
 "nbformat": 4,
 "nbformat_minor": 5
}
